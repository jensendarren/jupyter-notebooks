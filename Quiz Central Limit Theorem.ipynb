{
 "cells": [
  {
   "cell_type": "markdown",
   "metadata": {},
   "source": [
    "### Central Limit Theorem \n",
    "\n",
    "Work through the questions and use the created variables to answer the questions that follow below the notebook.\n",
    "\n",
    "Run the below cell to get started."
   ]
  },
  {
   "cell_type": "code",
   "execution_count": 1,
   "metadata": {},
   "outputs": [
    {
     "data": {
      "image/png": "[encoded data removed]",
      "text/plain": [
       "<Figure size 432x288 with 1 Axes>"
      ]
     },
     "metadata": {
      "needs_background": "light"
     },
     "output_type": "display_data"
    }
   ],
   "source": [
    "import numpy as np\n",
    "import matplotlib.pyplot as plt\n",
    "\n",
    "%matplotlib inline\n",
    "np.random.seed(42)\n",
    "\n",
    "pop_data = np.random.gamma(1,100,3000)\n",
    "plt.hist(pop_data);"
   ]
  },
  {
   "cell_type": "markdown",
   "metadata": {},
   "source": [
    "`1.` In order to create the sampling distribution for the average of 3 draws of this distribution, follow these steps:\n",
    "\n",
    "`a.` Use numpy's **random.choice** to simulate 3 draws from the `pop_data` array.   <br><br>\n",
    "`b.` Compute the mean of these 3 draws. <br><br>\n",
    "`c.` Write a loop to simulate this process 10,000 times, and store each mean into an array called **means_size_3**.<br><br>\n",
    "`d.` Plot a histogram of your sample means.<br><br>\n",
    "`e.` Use **means_size_3** and **pop_data** to answer the quiz questions below."
   ]
  },
  {
   "cell_type": "code",
   "execution_count": 13,
   "metadata": {},
   "outputs": [],
   "source": [
    "sample_data = np.random.choice(pop_data, (3,10000))\n",
    "means_size_3 = sample_data.mean(axis=0)"
   ]
  },
  {
   "cell_type": "code",
   "execution_count": 14,
   "metadata": {},
   "outputs": [
    {
     "name": "stdout",
     "output_type": "stream",
     "text": [
      "Mean of sample population: 100.89661505656217\n"
     ]
    }
   ],
   "source": [
    "print('Mean of sample population: {}'.format(means_size_3.mean()))"
   ]
  },
  {
   "cell_type": "code",
   "execution_count": 15,
   "metadata": {},
   "outputs": [
    {
     "name": "stdout",
     "output_type": "stream",
     "text": [
      "Mean of population: 100.35978700795846\n"
     ]
    }
   ],
   "source": [
    "print('Mean of population: {}'.format(pop_data.mean()))"
   ]
  },
  {
   "cell_type": "code",
   "execution_count": 16,
   "metadata": {},
   "outputs": [
    {
     "name": "stdout",
     "output_type": "stream",
     "text": [
      "STD of population: 99.77860187968906\n"
     ]
    }
   ],
   "source": [
    "print('STD of population: {}'.format(pop_data.std()))"
   ]
  },
  {
   "cell_type": "code",
   "execution_count": 18,
   "metadata": {},
   "outputs": [
    {
     "name": "stdout",
     "output_type": "stream",
     "text": [
      "STD of sample population: [100.01594962 101.25681736 103.18929509]\n"
     ]
    }
   ],
   "source": [
    "print('STD of sample population: {}'.format(sample_data.std(axis=1)))\n"
   ]
  },
  {
   "cell_type": "code",
   "execution_count": 8,
   "metadata": {},
   "outputs": [
    {
     "data": {
      "text/plain": [
       "(array([1.320e+02, 4.890e+02, 8.650e+02, 1.046e+03, 1.182e+03, 1.119e+03,\n",
       "        1.019e+03, 8.830e+02, 7.260e+02, 6.070e+02, 4.440e+02, 4.040e+02,\n",
       "        3.240e+02, 2.030e+02, 1.420e+02, 1.180e+02, 9.300e+01, 5.000e+01,\n",
       "        5.300e+01, 2.500e+01, 2.300e+01, 2.000e+01, 1.200e+01, 5.000e+00,\n",
       "        7.000e+00, 2.000e+00, 4.000e+00, 1.000e+00, 0.000e+00, 2.000e+00]),\n",
       " array([  0.65612409,  15.20713074,  29.75813739,  44.30914404,\n",
       "         58.86015069,  73.41115734,  87.96216399, 102.51317064,\n",
       "        117.06417729, 131.61518394, 146.16619059, 160.71719724,\n",
       "        175.26820389, 189.81921054, 204.37021719, 218.92122384,\n",
       "        233.47223049, 248.02323713, 262.57424378, 277.12525043,\n",
       "        291.67625708, 306.22726373, 320.77827038, 335.32927703,\n",
       "        349.88028368, 364.43129033, 378.98229698, 393.53330363,\n",
       "        408.08431028, 422.63531693, 437.18632358]),\n",
       " <BarContainer object of 30 artists>)"
      ]
     },
     "execution_count": 8,
     "metadata": {},
     "output_type": "execute_result"
    },
    {
     "data": {
      "image/png": "[encoded data removed]",
      "text/plain": [
       "<Figure size 432x288 with 1 Axes>"
      ]
     },
     "metadata": {
      "needs_background": "light"
     },
     "output_type": "display_data"
    }
   ],
   "source": [
    "import matplotlib.pyplot as plt\n",
    "plt.hist(means_size_3, 30)\n",
    "\n",
    "# Note the graph should be right skewed meaning that this is not\n",
    "# properly normally distributed and therefore a sample size of 3 \n",
    "# is not large enough!"
   ]
  }
 ],
 "metadata": {
  "kernelspec": {
   "display_name": "Python 3",
   "language": "python",
   "name": "python3"
  },
  "language_info": {
   "codemirror_mode": {
    "name": "ipython",
    "version": 3
   },
   "file_extension": ".py",
   "mimetype": "text/x-python",
   "name": "python",
   "nbconvert_exporter": "python",
   "pygments_lexer": "ipython3",
   "version": "3.8.5"
  }
 },
 "nbformat": 4,
 "nbformat_minor": 2
}
