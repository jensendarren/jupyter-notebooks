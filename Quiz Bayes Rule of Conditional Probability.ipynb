{
 "cells": [
  {
   "cell_type": "markdown",
   "metadata": {},
   "source": [
    "# Conditional Probability & Bayes Rule Quiz"
   ]
  },
  {
   "cell_type": "code",
   "execution_count": 7,
   "metadata": {},
   "outputs": [
    {
     "data": {
      "text/html": [
       "<div>\n",
       "<style scoped>\n",
       "    .dataframe tbody tr th:only-of-type {\n",
       "        vertical-align: middle;\n",
       "    }\n",
       "\n",
       "    .dataframe tbody tr th {\n",
       "        vertical-align: top;\n",
       "    }\n",
       "\n",
       "    .dataframe thead th {\n",
       "        text-align: right;\n",
       "    }\n",
       "</style>\n",
       "<table border=\"1\" class=\"dataframe\">\n",
       "  <thead>\n",
       "    <tr style=\"text-align: right;\">\n",
       "      <th></th>\n",
       "      <th>patient_id</th>\n",
       "      <th>test_result</th>\n",
       "      <th>has_cancer</th>\n",
       "    </tr>\n",
       "  </thead>\n",
       "  <tbody>\n",
       "    <tr>\n",
       "      <th>0</th>\n",
       "      <td>79452</td>\n",
       "      <td>Negative</td>\n",
       "      <td>False</td>\n",
       "    </tr>\n",
       "    <tr>\n",
       "      <th>1</th>\n",
       "      <td>81667</td>\n",
       "      <td>Positive</td>\n",
       "      <td>True</td>\n",
       "    </tr>\n",
       "    <tr>\n",
       "      <th>2</th>\n",
       "      <td>76297</td>\n",
       "      <td>Negative</td>\n",
       "      <td>False</td>\n",
       "    </tr>\n",
       "    <tr>\n",
       "      <th>3</th>\n",
       "      <td>36593</td>\n",
       "      <td>Negative</td>\n",
       "      <td>False</td>\n",
       "    </tr>\n",
       "    <tr>\n",
       "      <th>4</th>\n",
       "      <td>53717</td>\n",
       "      <td>Negative</td>\n",
       "      <td>False</td>\n",
       "    </tr>\n",
       "  </tbody>\n",
       "</table>\n",
       "</div>"
      ],
      "text/plain": [
       "   patient_id test_result  has_cancer\n",
       "0       79452    Negative       False\n",
       "1       81667    Positive        True\n",
       "2       76297    Negative       False\n",
       "3       36593    Negative       False\n",
       "4       53717    Negative       False"
      ]
     },
     "execution_count": 7,
     "metadata": {},
     "output_type": "execute_result"
    }
   ],
   "source": [
    "# load dataset\n",
    "import pandas as pd\n",
    "\n",
    "df = pd.read_csv('./data/cancer_test_data.csv')\n",
    "df.head()"
   ]
  },
  {
   "cell_type": "markdown",
   "metadata": {},
   "source": [
    "### Notes on Bayes Rule\n",
    "\n",
    "In this dataset the following is true:\n",
    "\n",
    "* Patients with cancer: 0.105\n",
    "* Patients without cancer: 0.895\n",
    "* Patients with cancer who tested positive: 0.905\n",
    "* Patients with cancer who tested negative: 0.095\n",
    "* Patients without cancer who tested positive: 0.204\n",
    "* Patients without cancer who tested negative: 0.796\n",
    "\n",
    "Based on the above proportions observed in the data, we can assume the following probabilities.\n",
    "\n",
    "* `P(cancer)` = 0.105\tProbability a patient has cancer\n",
    "* `P(~cancer)` = 0.895\tProbability a patient does not have cancer\n",
    "* `P(positive|cancer)` = 0.905\tProbability a patient with cancer tests positive\n",
    "* `P(negative|cancer)` = 0.095\tProbability a patient with cancer tests negative\n",
    "* `P(positive|~cancer)` = 0.204\tProbability a patient without cancer tests positive\n",
    "* `P(negative|~cancer)` = 0.796\tProbability a patient without cancer tests negative\n",
    "\n",
    "So for example, using Bayes Rule, to calculate:\n",
    "\n",
    "Probability a patient who tested positive has cancer, or `P(cancer|positive)`, then the formula is as follows:\n",
    "\n",
    "`P(cancer|positive)` = `P(cancer) * P(positive|cancer) / P(positve)`\n",
    "\n",
    "We already have the values for `P(cancer)` and `P(positive|cancer)` which we can easily plug into the above formula like so:\n",
    "\n",
    "`P(cancer|positive)` = 0.105 * 0.905 / `P(positve)`\n",
    "\n",
    "So how then to calulate `P(positive)`?\n",
    "\n",
    "Well it is the sum of the probabily of outcomes of actually getting a positive result (i.e. `P(positive|~cancer)` and `P(positive|cancer)`) both multiplied by the pobability of the precondition being true, so:\n",
    "\n",
    "```\n",
    "P(positive) = (P(cancer) * P(positive|cancer)) + (P(~cancer) * P(positive|~cancer))\n",
    "P(positive) = (0.105 * 0.905) + (0.895 * 0.204)\n",
    "P(positive) = (0.105 * 0.905) + (0.895 * 0.204)\n",
    "P(positive) = 0.277605\n",
    "```\n",
    "\n",
    "Plug that into the formula to get the final result for `P(cancer|positive)`\n",
    "\n",
    "```\n",
    "P(cancer|positive) = 0.105 * 0.905 / 0.277605\n",
    "P(cancer|positive) = 0.342\n",
    "```"
   ]
  },
  {
   "cell_type": "code",
   "execution_count": 2,
   "metadata": {},
   "outputs": [
    {
     "data": {
      "text/plain": [
       "0.34282178217821785"
      ]
     },
     "execution_count": 2,
     "metadata": {},
     "output_type": "execute_result"
    }
   ],
   "source": [
    "# What proportion of patients who tested positive has cancer?\n",
    "# This should confirm our calculation above for P(cancer|positive) using Bayes rule:\n",
    "df.query('test_result == \"Positive\"')['has_cancer'].mean()"
   ]
  },
  {
   "cell_type": "code",
   "execution_count": 3,
   "metadata": {},
   "outputs": [
    {
     "data": {
      "text/plain": [
       "0.6571782178217822"
      ]
     },
     "execution_count": 3,
     "metadata": {},
     "output_type": "execute_result"
    }
   ],
   "source": [
    "# What proportion of patients who tested positive doesn't have cancer?\n",
    "1 - df.query('test_result == \"Positive\"')['has_cancer'].mean()"
   ]
  },
  {
   "cell_type": "code",
   "execution_count": 4,
   "metadata": {},
   "outputs": [
    {
     "data": {
      "text/plain": [
       "0.013770180436847104"
      ]
     },
     "execution_count": 4,
     "metadata": {},
     "output_type": "execute_result"
    }
   ],
   "source": [
    "# What proportion of patients who tested negative has cancer?\n",
    "df.query('test_result == \"Negative\"')['has_cancer'].mean()"
   ]
  },
  {
   "cell_type": "code",
   "execution_count": 5,
   "metadata": {},
   "outputs": [
    {
     "data": {
      "text/plain": [
       "0.9862298195631529"
      ]
     },
     "execution_count": 5,
     "metadata": {},
     "output_type": "execute_result"
    }
   ],
   "source": [
    "# What proportion of patients who tested negative doesn't have cancer?\n",
    "1 - df.query('test_result == \"Negative\"')['has_cancer'].mean()"
   ]
  }
 ],
 "metadata": {
  "kernelspec": {
   "display_name": "Python 3",
   "language": "python",
   "name": "python3"
  },
  "language_info": {
   "codemirror_mode": {
    "name": "ipython",
    "version": 3
   },
   "file_extension": ".py",
   "mimetype": "text/x-python",
   "name": "python",
   "nbconvert_exporter": "python",
   "pygments_lexer": "ipython3",
   "version": "3.8.5"
  }
 },
 "nbformat": 4,
 "nbformat_minor": 2
}
