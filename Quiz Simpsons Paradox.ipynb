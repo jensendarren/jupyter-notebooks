{
 "cells": [
  {
   "cell_type": "markdown",
   "metadata": {
    "collapsed": true
   },
   "source": [
    "# Simpson's Paradox\n",
    "Use `admission_data.csv` for this exercise."
   ]
  },
  {
   "cell_type": "code",
   "execution_count": 2,
   "metadata": {},
   "outputs": [
    {
     "data": {
      "text/html": [
       "<div>\n",
       "<style scoped>\n",
       "    .dataframe tbody tr th:only-of-type {\n",
       "        vertical-align: middle;\n",
       "    }\n",
       "\n",
       "    .dataframe tbody tr th {\n",
       "        vertical-align: top;\n",
       "    }\n",
       "\n",
       "    .dataframe thead th {\n",
       "        text-align: right;\n",
       "    }\n",
       "</style>\n",
       "<table border=\"1\" class=\"dataframe\">\n",
       "  <thead>\n",
       "    <tr style=\"text-align: right;\">\n",
       "      <th></th>\n",
       "      <th>student_id</th>\n",
       "      <th>gender</th>\n",
       "      <th>major</th>\n",
       "      <th>admitted</th>\n",
       "    </tr>\n",
       "  </thead>\n",
       "  <tbody>\n",
       "    <tr>\n",
       "      <th>0</th>\n",
       "      <td>35377</td>\n",
       "      <td>female</td>\n",
       "      <td>Chemistry</td>\n",
       "      <td>False</td>\n",
       "    </tr>\n",
       "    <tr>\n",
       "      <th>1</th>\n",
       "      <td>56105</td>\n",
       "      <td>male</td>\n",
       "      <td>Physics</td>\n",
       "      <td>True</td>\n",
       "    </tr>\n",
       "    <tr>\n",
       "      <th>2</th>\n",
       "      <td>31441</td>\n",
       "      <td>female</td>\n",
       "      <td>Chemistry</td>\n",
       "      <td>False</td>\n",
       "    </tr>\n",
       "    <tr>\n",
       "      <th>3</th>\n",
       "      <td>51765</td>\n",
       "      <td>male</td>\n",
       "      <td>Physics</td>\n",
       "      <td>True</td>\n",
       "    </tr>\n",
       "    <tr>\n",
       "      <th>4</th>\n",
       "      <td>53714</td>\n",
       "      <td>female</td>\n",
       "      <td>Physics</td>\n",
       "      <td>True</td>\n",
       "    </tr>\n",
       "  </tbody>\n",
       "</table>\n",
       "</div>"
      ],
      "text/plain": [
       "   student_id  gender      major  admitted\n",
       "0       35377  female  Chemistry     False\n",
       "1       56105    male    Physics      True\n",
       "2       31441  female  Chemistry     False\n",
       "3       51765    male    Physics      True\n",
       "4       53714  female    Physics      True"
      ]
     },
     "execution_count": 2,
     "metadata": {},
     "output_type": "execute_result"
    }
   ],
   "source": [
    "# Load and view first few lines of dataset\n",
    "import pandas as pd\n",
    "df = pd.read_csv('admission_data.csv')\n",
    "total_students = df.shape[0]\n",
    "df.head()"
   ]
  },
  {
   "cell_type": "markdown",
   "metadata": {},
   "source": [
    "### Proportion and admission rate for each gender"
   ]
  },
  {
   "cell_type": "code",
   "execution_count": 3,
   "metadata": {},
   "outputs": [
    {
     "name": "stdout",
     "output_type": "stream",
     "text": [
      "Female Count:  257\n",
      "Proportion of students that are female 0.514\n"
     ]
    }
   ],
   "source": [
    "# Proportion of students that are female\n",
    "females = df[df.gender == 'female']\n",
    "female_count = females.shape[0]\n",
    "print('Female Count: ', female_count)\n",
    "print('Proportion of students that are female', female_count/total_students)"
   ]
  },
  {
   "cell_type": "code",
   "execution_count": 4,
   "metadata": {},
   "outputs": [
    {
     "name": "stdout",
     "output_type": "stream",
     "text": [
      "Male Count:  243\n",
      "Proportion of students that are male 0.486\n"
     ]
    }
   ],
   "source": [
    "# Proportion of students that are male\n",
    "males = df[df.gender == 'male']\n",
    "male_count = males.shape[0]\n",
    "print('Male Count: ', male_count)\n",
    "print('Proportion of students that are male', male_count/total_students)"
   ]
  },
  {
   "cell_type": "code",
   "execution_count": 27,
   "metadata": {},
   "outputs": [
    {
     "name": "stdout",
     "output_type": "stream",
     "text": [
      "Females Admitted:  74\n",
      "Admission rate for females:  0.28793774319066145\n"
     ]
    },
    {
     "data": {
      "text/plain": [
       "0.28793774319066145"
      ]
     },
     "execution_count": 27,
     "metadata": {},
     "output_type": "execute_result"
    }
   ],
   "source": [
    "# Admission rate for females\n",
    "females_admitted = females[females.admitted]\n",
    "females_admission_count = females_admitted.shape[0]\n",
    "print('Females Admitted: ', females_admission_count)\n",
    "print('Admission rate for females: ', females_admission_count / female_count)\n",
    "\n",
    "# Alternative:\n",
    "# len(df[(df['gender']=='female') & (df['admitted'])])/(len(df[df['gender']=='female']))"
   ]
  },
  {
   "cell_type": "code",
   "execution_count": 6,
   "metadata": {},
   "outputs": [
    {
     "name": "stdout",
     "output_type": "stream",
     "text": [
      "Males Admitted: 118\n",
      "Admission rate for males:  0.48559670781893005\n"
     ]
    }
   ],
   "source": [
    "# Admission rate for males\n",
    "males_admitted = males[males.admitted]\n",
    "males_admission_count = males_admitted.shape[0]\n",
    "print('Males Admitted:', males_admission_count)\n",
    "print('Admission rate for males: ', males_admission_count / male_count)"
   ]
  },
  {
   "cell_type": "markdown",
   "metadata": {},
   "source": [
    "### Proportion and admission rate for physics majors of each gender"
   ]
  },
  {
   "cell_type": "code",
   "execution_count": 7,
   "metadata": {},
   "outputs": [
    {
     "name": "stdout",
     "output_type": "stream",
     "text": [
      "Proportion of female students are majoring in physics 0.12062256809338522\n"
     ]
    }
   ],
   "source": [
    "# What proportion of female students are majoring in physics?\n",
    "females_major_physics = females[(females.major=='Physics')].shape[0]\n",
    "females_major_physics_proportion = females_major_physics / female_count\n",
    "print('Proportion of female students are majoring in physics', females_major_physics_proportion)\n",
    "\n",
    "# Alternative solution using query function:\n",
    "\n",
    "# fem_phys_rate = admits.query(\"gender == 'male' & major == 'Physics'\").count()/ \\\n",
    "#    (admits.query(\"gender == 'male'\").count())\n",
    "# print (fem_phys_rate)"
   ]
  },
  {
   "cell_type": "code",
   "execution_count": 8,
   "metadata": {},
   "outputs": [
    {
     "name": "stdout",
     "output_type": "stream",
     "text": [
      "Proportion of male students are majoring in physics 0.9259259259259259\n"
     ]
    }
   ],
   "source": [
    "# What proportion of male students are majoring in physics?\n",
    "males_major_physics = males[(males.major=='Physics')].shape[0]\n",
    "males_major_physics_proportion = males_major_physics / male_count\n",
    "print('Proportion of male students are majoring in physics', males_major_physics_proportion)"
   ]
  },
  {
   "cell_type": "code",
   "execution_count": 9,
   "metadata": {},
   "outputs": [
    {
     "name": "stdout",
     "output_type": "stream",
     "text": [
      "Admission rate for female physics majors 0.7419354838709677\n"
     ]
    }
   ],
   "source": [
    "# Admission rate for female physics majors\n",
    "females_major_physics_admitted = females[(females.major=='Physics') & (females.admitted)].shape[0]\n",
    "females_major_physics_admitted_proportion = females_major_physics_admitted / females_major_physics\n",
    "print('Admission rate for female physics majors', females_major_physics_admitted_proportion)\n",
    "\n",
    "# Alternative solution:\n",
    "# len(admits[(admits[\"gender\"]=='female') & (admits[\"major\"] == 'Physics') & admits[\"admitted\"]]) / len(admits[(admits[\"gender\"]=='female') & (admits[\"major\"] == 'Physics')])"
   ]
  },
  {
   "cell_type": "code",
   "execution_count": 10,
   "metadata": {},
   "outputs": [
    {
     "name": "stdout",
     "output_type": "stream",
     "text": [
      "Admission rate for male physics majors 0.5155555555555555\n"
     ]
    }
   ],
   "source": [
    "# Admission rate for male physics majors\n",
    "males_major_physics_admitted = males[(males.major=='Physics') & (males.admitted)].shape[0]\n",
    "males_major_physics_admitted_proportion = males_major_physics_admitted / males_major_physics\n",
    "print('Admission rate for male physics majors', males_major_physics_admitted_proportion) "
   ]
  },
  {
   "cell_type": "markdown",
   "metadata": {},
   "source": [
    "### Proportion and admission rate for chemistry majors of each gender"
   ]
  },
  {
   "cell_type": "code",
   "execution_count": 12,
   "metadata": {},
   "outputs": [
    {
     "name": "stdout",
     "output_type": "stream",
     "text": [
      "Proportion of female students are majoring in Chemistry 0.8793774319066148\n"
     ]
    }
   ],
   "source": [
    "# What proportion of female students are majoring in chemistry?\n",
    "females_major_chemistry = females[(females.major=='Chemistry')].shape[0]\n",
    "females_major_chemistry_proportion = females_major_chemistry / female_count\n",
    "print('Proportion of female students are majoring in Chemistry', females_major_chemistry_proportion)"
   ]
  },
  {
   "cell_type": "code",
   "execution_count": 13,
   "metadata": {},
   "outputs": [
    {
     "name": "stdout",
     "output_type": "stream",
     "text": [
      "Proportion of male students are majoring in physics 0.07407407407407407\n"
     ]
    }
   ],
   "source": [
    "# What proportion of male students are majoring in chemistry?\n",
    "males_major_chemistry = males[(males.major=='Chemistry')].shape[0]\n",
    "males_major_chemistry_proportion = males_major_chemistry / male_count\n",
    "print('Proportion of male students are majoring in physics', males_major_chemistry_proportion)"
   ]
  },
  {
   "cell_type": "code",
   "execution_count": 14,
   "metadata": {},
   "outputs": [
    {
     "name": "stdout",
     "output_type": "stream",
     "text": [
      "Admission rate for female Chemistry majors 0.22566371681415928\n"
     ]
    }
   ],
   "source": [
    "# Admission rate for female chemistry majors\n",
    "females_major_chemistry_admitted = females[(females.major=='Chemistry') & (females.admitted)].shape[0]\n",
    "females_major_chemistry_admitted_proportion = females_major_chemistry_admitted / females_major_chemistry\n",
    "print('Admission rate for female Chemistry majors', females_major_chemistry_admitted_proportion)"
   ]
  },
  {
   "cell_type": "code",
   "execution_count": 15,
   "metadata": {},
   "outputs": [
    {
     "name": "stdout",
     "output_type": "stream",
     "text": [
      "Admission rate for male Chemistry majors 0.1111111111111111\n"
     ]
    }
   ],
   "source": [
    "# Admission rate for male chemistry majors\n",
    "males_major_chemistry_admitted = males[(males.major=='Chemistry') & (males.admitted)].shape[0]\n",
    "males_major_chemistry_admitted_proportion = males_major_chemistry_admitted / males_major_chemistry\n",
    "print('Admission rate for male Chemistry majors', males_major_chemistry_admitted_proportion) "
   ]
  },
  {
   "cell_type": "markdown",
   "metadata": {},
   "source": [
    "### Admission rate for each major"
   ]
  },
  {
   "cell_type": "code",
   "execution_count": 24,
   "metadata": {},
   "outputs": [
    {
     "data": {
      "text/plain": [
       "0.54296875"
      ]
     },
     "execution_count": 24,
     "metadata": {},
     "output_type": "execute_result"
    }
   ],
   "source": [
    "# Admission rate for physics majors (answer should be a rate of 54.3%).\n",
    "len(df[(df['major'] == 'Physics') & df['admitted']]) / len(df[(df['major'] == 'Physics')])"
   ]
  },
  {
   "cell_type": "code",
   "execution_count": 26,
   "metadata": {},
   "outputs": [
    {
     "data": {
      "text/plain": [
       "0.21721311475409835"
      ]
     },
     "execution_count": 26,
     "metadata": {},
     "output_type": "execute_result"
    }
   ],
   "source": [
    "# Admission rate for chemistry majors (answer should be admission rate of 21.7%)\n",
    "len(df[(df['major'] == 'Chemistry') & df['admitted']]) / len(df[(df['major'] == 'Chemistry')])"
   ]
  }
 ],
 "metadata": {
  "kernelspec": {
   "display_name": "Python 3",
   "language": "python",
   "name": "python3"
  },
  "language_info": {
   "codemirror_mode": {
    "name": "ipython",
    "version": 3
   },
   "file_extension": ".py",
   "mimetype": "text/x-python",
   "name": "python",
   "nbconvert_exporter": "python",
   "pygments_lexer": "ipython3",
   "version": "3.6.3"
  }
 },
 "nbformat": 4,
 "nbformat_minor": 2
}
