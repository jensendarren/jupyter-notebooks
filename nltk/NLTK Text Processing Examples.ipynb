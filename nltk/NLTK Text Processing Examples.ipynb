{
 "cells": [
  {
   "cell_type": "markdown",
   "metadata": {},
   "source": [
    "# Text Processing\n",
    "\n",
    "## Capturing Text Data\n",
    "\n",
    "### Plain Text"
   ]
  },
  {
   "cell_type": "code",
   "execution_count": 1,
   "metadata": {},
   "outputs": [
    {
     "name": "stdout",
     "output_type": "stream",
     "text": [
      "Hieroglyphic writing dates from c. 3000 BC, and is composed of hundreds of symbols. A hieroglyph can represent a word, a sound, or a silent determinative; and the same symbol can serve different purposes in different contexts. Hieroglyphs were a formal script, used on stone monuments and in tombs, that could be as detailed as individual works of art.\n",
      "\n"
     ]
    }
   ],
   "source": [
    "import os\n",
    "\n",
    "# Read in a plain text file\n",
    "with open(os.path.join(\"data\", \"hieroglyph.txt\"), \"r\") as f:\n",
    "    text = f.read()\n",
    "    print(text)"
   ]
  },
  {
   "cell_type": "markdown",
   "metadata": {},
   "source": [
    "### Tabular Data"
   ]
  },
  {
   "cell_type": "code",
   "execution_count": 2,
   "metadata": {
    "scrolled": true
   },
   "outputs": [
    {
     "data": {
      "text/html": [
       "<div>\n",
       "<style scoped>\n",
       "    .dataframe tbody tr th:only-of-type {\n",
       "        vertical-align: middle;\n",
       "    }\n",
       "\n",
       "    .dataframe tbody tr th {\n",
       "        vertical-align: top;\n",
       "    }\n",
       "\n",
       "    .dataframe thead th {\n",
       "        text-align: right;\n",
       "    }\n",
       "</style>\n",
       "<table border=\"1\" class=\"dataframe\">\n",
       "  <thead>\n",
       "    <tr style=\"text-align: right;\">\n",
       "      <th></th>\n",
       "      <th>publisher</th>\n",
       "      <th>title</th>\n",
       "    </tr>\n",
       "  </thead>\n",
       "  <tbody>\n",
       "    <tr>\n",
       "      <th>0</th>\n",
       "      <td>Livemint</td>\n",
       "      <td>fed's charles plosser sees high bar for change...</td>\n",
       "    </tr>\n",
       "    <tr>\n",
       "      <th>1</th>\n",
       "      <td>IFA Magazine</td>\n",
       "      <td>us open: stocks fall after fed official hints ...</td>\n",
       "    </tr>\n",
       "    <tr>\n",
       "      <th>2</th>\n",
       "      <td>IFA Magazine</td>\n",
       "      <td>fed risks falling 'behind the curve', charles ...</td>\n",
       "    </tr>\n",
       "    <tr>\n",
       "      <th>3</th>\n",
       "      <td>Moneynews</td>\n",
       "      <td>fed's plosser: nasty weather has curbed job gr...</td>\n",
       "    </tr>\n",
       "    <tr>\n",
       "      <th>4</th>\n",
       "      <td>NASDAQ</td>\n",
       "      <td>plosser: fed may have to accelerate tapering pace</td>\n",
       "    </tr>\n",
       "  </tbody>\n",
       "</table>\n",
       "</div>"
      ],
      "text/plain": [
       "      publisher                                              title\n",
       "0      Livemint  fed's charles plosser sees high bar for change...\n",
       "1  IFA Magazine  us open: stocks fall after fed official hints ...\n",
       "2  IFA Magazine  fed risks falling 'behind the curve', charles ...\n",
       "3     Moneynews  fed's plosser: nasty weather has curbed job gr...\n",
       "4        NASDAQ  plosser: fed may have to accelerate tapering pace"
      ]
     },
     "execution_count": 2,
     "metadata": {},
     "output_type": "execute_result"
    }
   ],
   "source": [
    "import pandas as pd\n",
    "\n",
    "# Extract text column from a dataframe\n",
    "df = pd.read_csv(os.path.join(\"data\", \"news.csv\"))\n",
    "df.head()[['publisher', 'title']]\n",
    "\n",
    "# Convert text column to lowercase\n",
    "df['title'] = df['title'].str.lower()\n",
    "df.head()[['publisher', 'title']]"
   ]
  },
  {
   "cell_type": "markdown",
   "metadata": {},
   "source": [
    "### Online Resource"
   ]
  },
  {
   "cell_type": "code",
   "execution_count": 3,
   "metadata": {
    "scrolled": true
   },
   "outputs": [
    {
     "name": "stdout",
     "output_type": "stream",
     "text": [
      "{\n",
      "    \"success\": {\n",
      "        \"total\": 1\n",
      "    },\n",
      "    \"contents\": {\n",
      "        \"quotes\": [\n",
      "            {\n",
      "                \"quote\": \"The human mind and body are truly extraordinary. They are the quintessence of excellence in motion. We talk, touch, see, hear, taste, smell, and feel. We dream, aspire, and become. All that we are is mind and body and spirit-that is our universe.\",\n",
      "                \"length\": \"253\",\n",
      "                \"author\": \"Lorii Myers\",\n",
      "                \"tags\": [\n",
      "                    \"human-body\",\n",
      "                    \"inspire\",\n",
      "                    \"life\",\n",
      "                    \"mind\"\n",
      "                ],\n",
      "                \"category\": \"inspire\",\n",
      "                \"language\": \"en\",\n",
      "                \"date\": \"2021-08-10\",\n",
      "                \"permalink\": \"https://theysaidso.com/quote/lorii-myers-the-human-mind-and-body-are-truly-extraordinary-they-are-the-quintes\",\n",
      "                \"id\": \"dZWOGcDFcNB_jy_XhjmnDweF\",\n",
      "                \"background\": \"https://theysaidso.com/img/qod/qod-inspire.jpg\",\n",
      "                \"title\": \"Inspiring Quote of the day\"\n",
      "            }\n",
      "        ]\n",
      "    },\n",
      "    \"baseurl\": \"https://theysaidso.com\",\n",
      "    \"copyright\": {\n",
      "        \"year\": 2023,\n",
      "        \"url\": \"https://theysaidso.com\"\n",
      "    }\n",
      "}\n",
      "The human mind and body are truly extraordinary. They are the quintessence of excellence in motion. We talk, touch, see, hear, taste, smell, and feel. We dream, aspire, and become. All that we are is mind and body and spirit-that is our universe. \n",
      "-- Lorii Myers\n"
     ]
    }
   ],
   "source": [
    "import requests\n",
    "import json\n",
    "\n",
    "# Fetch data from a REST API\n",
    "r = requests.get(\n",
    "    \"https://quotes.rest/qod.json\")\n",
    "res = r.json()\n",
    "print(json.dumps(res, indent=4))\n",
    "\n",
    "# Extract relevant object and field\n",
    "q = res[\"contents\"][\"quotes\"][0]\n",
    "print(q[\"quote\"], \"\\n--\", q[\"author\"])"
   ]
  },
  {
   "cell_type": "markdown",
   "metadata": {},
   "source": [
    "## Cleaning"
   ]
  },
  {
   "cell_type": "code",
   "execution_count": 4,
   "metadata": {
    "scrolled": true
   },
   "outputs": [
    {
     "name": "stdout",
     "output_type": "stream",
     "text": [
      "<html lang=\"en\" op=\"news\"><head><meta name=\"referrer\" content=\"origin\"><meta name=\"viewport\" content=\"width=device-width, initial-scale=1.0\"><link rel=\"stylesheet\" type=\"text/css\" href=\"news.css?ROmKTrrW2BGQTQko9J1b\">\n",
      "        <link rel=\"shortcut icon\" href=\"favicon.ico\">\n",
      "          <link rel=\"alternate\" type=\"application/rss+xml\" title=\"RSS\" href=\"rss\">\n",
      "        <title>Hacker News</title></head><body><center><table id=\"hnmain\" border=\"0\" cellpadding=\"0\" cellspacing=\"0\" width=\"85%\" bgcolor=\"#f6f6ef\">\n",
      "        <tr><td bgcolor=\"#ff6600\"><table border=\"0\" cellpadding=\"0\" cellspacing=\"0\" width=\"100%\" style=\"padding:2px\"><tr><td style=\"width:18px;padding-right:4px\"><a href=\"https://news.ycombinator.com\"><img src=\"y18.gif\" width=\"18\" height=\"18\" style=\"border:1px white solid;\"></a></td>\n",
      "                  <td style=\"line-height:12pt; height:10px;\"><span class=\"pagetop\"><b class=\"hnname\"><a href=\"news\">Hacker News</a></b>\n",
      "              <a href=\"newest\">new</a> | <a href=\"front\">past</a> | <a href=\"newcomments\">comments</a> | <a href=\"ask\">ask</a> | <a href=\"show\">show</a> | <a href=\"jobs\">jobs</a> | <a href=\"submit\">submit</a>            </span></td><td style=\"text-align:right;padding-right:4px;\"><span class=\"pagetop\">\n",
      "                              <a href=\"login?goto=news\">login</a>\n",
      "                          </span></td>\n",
      "              </tr></table></td></tr>\n",
      "<tr id=\"pagespace\" title=\"\" style=\"height:10px\"></tr><tr><td><table border=\"0\" cellpadding=\"0\" cellspacing=\"0\" class=\"itemlist\">\n",
      "              <tr class='athing' id='28124032'>\n",
      "      <td align=\"right\" valign=\"top\" class=\"title\"><span class=\"rank\">1.</span></td>      <td valign=\"top\" class=\"votelinks\"><center><a id='up_28124032' href='vote?id=28124032&amp;how=up&amp;goto=news'><div class='votearrow' title='upvote'></div></a></center></td><td class=\"title\"><a href=\"https://thecounter.org/mexico-phaseout-glyphosate-genetically-engineered-corn-united-states/\" class=\"storylink\">Mexico is phasing out imports of glyphosate and GMO corn</a><span class=\"sitebit comhead\"> (<a href=\"from?site=thecounter.org\"><span class=\"sitestr\">thecounter.org</span></a>)</span></td></tr><tr><td colspan=\"2\"></td><td class=\"subtext\">\n",
      "        <span class=\"score\" id=\"score_28124032\">46 points</span> by <a href=\"user?id=walterbell\" class=\"hnuser\">walterbell</a> <span class=\"age\" title=\"2021-08-10T00:41:20\"><a href=\"item?id=28124032\">1 hour ago</a></span> <span id=\"unv_28124032\"></span> | <a href=\"hide?id=28124032&amp;goto=news\">hide</a> | <a href=\"item?id=28124032\">14&nbsp;comments</a>              </td></tr>\n",
      "      <tr class=\"spacer\" style=\"height:5px\"></tr>\n",
      "                <tr class='athing' id='28121929'>\n",
      "      <td align=\"right\" valign=\"top\" class=\"title\"><span class=\"rank\">2.</span></td>      <td valign=\"top\" class=\"votelinks\"><center><a id='up_28121929' href='vote?id=28121929&amp;how=up&amp;goto=news'><div class='votearrow' title='upvote'></div></a></center></td><td class=\"title\"><a href=\"https://www.npr.org/2021/08/09/1026091196/this-sweet-white-flower-is-actually-a-sneaky-carnivore-scientists-discovered\" class=\"storylink\">New carnivorous plant discovered in Pacific Northwest</a><span class=\"sitebit comhead\"> (<a href=\"from?site=npr.org\"><span class=\"sitestr\">npr.org</span></a>)</span></td></tr><tr><td colspan=\"2\"></td><td class=\"subtext\">\n",
      "        <span class=\"score\" id=\"score_28121929\">293 points</span> by <a href=\"user?id=bryan0\" class=\"hnuser\">bryan0</a> <span class=\"age\" title=\"2021-08-09T20:25:32\"><a href=\"item?id=28121929\">5 hours ago</a></span> <span id=\"unv_28121929\"></span> | <a href=\"hide?id=28121929&amp;goto=news\">hide</a> | <a href=\"item?id=28121929\">67&nbsp;comments</a>              </td></tr>\n",
      "      <tr class=\"spacer\" style=\"height:5px\"></tr>\n",
      "                <tr class='athing' id='28120483'>\n",
      "      <td align=\"right\" valign=\"top\" class=\"title\"><span class=\"rank\">3.</span></td>      <td valign=\"top\" class=\"votelinks\"><center><a id='up_28120483' href='vote?id=28120483&amp;how=up&amp;goto=news'><div class='votearrow' title='upvote'></div></a></center></td><td class=\"title\"><a href=\"https://news.berkeley.edu/2021/08/09/how-wildfire-restored-a-yosemite-watershed/\" class=\"storylink\">Wildfire restored a Yosemite watershed</a><span class=\"sitebit comhead\"> (<a href=\"from?site=news.berkeley.edu\"><span class=\"sitestr\">news.berkeley.edu</span></a>)</span></td></tr><tr><td colspan=\"2\"></td><td class=\"subtext\">\n",
      "        <span class=\"score\" id=\"score_28120483\">237 points</span> by <a href=\"user?id=incomplete\" class=\"hnuser\">incomplete</a> <span class=\"age\" title=\"2021-08-09T18:33:46\"><a href=\"item?id=28120483\">7 hours ago</a></span> <span id=\"unv_28120483\"></span> | <a href=\"hide?id=28120483&amp;goto=news\">hide</a> | <a href=\"item?id=28120483\">135&nbsp;comments</a>              </td></tr>\n",
      "      <tr class=\"spacer\" style=\"height:5px\"></tr>\n",
      "                <tr class='athing' id='28123461'>\n",
      "      <td align=\"right\" valign=\"top\" class=\"title\"><span class=\"rank\">4.</span></td>      <td valign=\"top\" class=\"votelinks\"><center><a id='up_28123461' href='vote?id=28123461&amp;how=up&amp;goto=news'><div class='votearrow' title='upvote'></div></a></center></td><td class=\"title\"><a href=\"https://oilprice.com/Latest-Energy-News/World-News/Top-5-Polluting-Power-Plants-Account-For-73-Of-Global-Emissions.html\" class=\"storylink\">Top 5% Polluting Power Plants Account for 73% of Global Emissions</a><span class=\"sitebit comhead\"> (<a href=\"from?site=oilprice.com\"><span class=\"sitestr\">oilprice.com</span></a>)</span></td></tr><tr><td colspan=\"2\"></td><td class=\"subtext\">\n",
      "        <span class=\"score\" id=\"score_28123461\">41 points</span> by <a href=\"user?id=vimy\" class=\"hnuser\">vimy</a> <span class=\"age\" title=\"2021-08-09T23:10:35\"><a href=\"item?id=28123461\">3 hours ago</a></span> <span id=\"unv_28123461\"></span> | <a href=\"hide?id=28123461&amp;goto=news\">hide</a> | <a href=\"item?id=28123461\">10&nbsp;comments</a>              </td></tr>\n",
      "      <tr class=\"spacer\" style=\"height:5px\"></tr>\n",
      "                <tr class='athing' id='28122950'>\n",
      "      <td align=\"right\" valign=\"top\" class=\"title\"><span class=\"rank\">5.</span></td>      <td valign=\"top\" class=\"votelinks\"><center><a id='up_28122950' href='vote?id=28122950&amp;how=up&amp;goto=news'><div class='votearrow' title='upvote'></div></a></center></td><td class=\"title\"><a href=\"https://beyondloom.com/blog/denial.html\" class=\"storylink\">Stages of Denial</a><span class=\"sitebit comhead\"> (<a href=\"from?site=beyondloom.com\"><span class=\"sitestr\">beyondloom.com</span></a>)</span></td></tr><tr><td colspan=\"2\"></td><td class=\"subtext\">\n",
      "        <span class=\"score\" id=\"score_28122950\">83 points</span> by <a href=\"user?id=clashmeifyoucan\" class=\"hnuser\">clashmeifyoucan</a> <span class=\"age\" title=\"2021-08-09T22:10:24\"><a href=\"item?id=28122950\">4 hours ago</a></span> <span id=\"unv_28122950\"></span> | <a href=\"hide?id=28122950&amp;goto=news\">hide</a> | <a href=\"item?id=28122950\">26&nbsp;comments</a>              </td></tr>\n",
      "      <tr class=\"spacer\" style=\"height:5px\"></tr>\n",
      "                <tr class='athing' id='28113201'>\n",
      "      <td align=\"right\" valign=\"top\" class=\"title\"><span class=\"rank\">6.</span></td>      <td valign=\"top\" class=\"votelinks\"><center><a id='up_28113201' href='vote?id=28113201&amp;how=up&amp;goto=news'><div class='votearrow' title='upvote'></div></a></center></td><td class=\"title\"><a href=\"https://aeon.co/ideas/why-we-can-stop-worrying-and-love-the-particle-accelerator\" class=\"storylink\">What happens if you stick your head in a particle accelerator? (2017)</a><span class=\"sitebit comhead\"> (<a href=\"from?site=aeon.co\"><span class=\"sitestr\">aeon.co</span></a>)</span></td></tr><tr><td colspan=\"2\"></td><td class=\"subtext\">\n",
      "        <span class=\"score\" id=\"score_28113201\">44 points</span> by <a href=\"user?id=sakopov\" class=\"hnuser\">sakopov</a> <span class=\"age\" title=\"2021-08-09T06:07:17\"><a href=\"item?id=28113201\">3 hours ago</a></span> <span id=\"unv_28113201\"></span> | <a href=\"hide?id=28113201&amp;goto=news\">hide</a> | <a href=\"item?id=28113201\">17&nbsp;comments</a>              </td></tr>\n",
      "      <tr class=\"spacer\" style=\"height:5px\"></tr>\n",
      "                <tr class='athing' id='28107970'>\n",
      "      <td align=\"right\" valign=\"top\" class=\"title\"><span class=\"rank\">7.</span></td>      <td valign=\"top\" class=\"votelinks\"><center><a id='up_28107970' href='vote?id=28107970&amp;how=up&amp;goto=news'><div class='votearrow' title='upvote'></div></a></center></td><td class=\"title\"><a href=\"https://www.nytimes.com/2021/08/03/arts/design/new-york-public-library-picture-collection.html\" class=\"storylink\">New York Public Library’s Picture Collection Will Be Archived</a><span class=\"sitebit comhead\"> (<a href=\"from?site=nytimes.com\"><span class=\"sitestr\">nytimes.com</span></a>)</span></td></tr><tr><td colspan=\"2\"></td><td class=\"subtext\">\n",
      "        <span class=\"score\" id=\"score_28107970\">36 points</span> by <a href=\"user?id=brudgers\" class=\"hnuser\">brudgers</a> <span class=\"age\" title=\"2021-08-08T16:36:47\"><a href=\"item?id=28107970\">2 hours ago</a></span> <span id=\"unv_28107970\"></span> | <a href=\"hide?id=28107970&amp;goto=news\">hide</a> | <a href=\"item?id=28107970\">4&nbsp;comments</a>              </td></tr>\n",
      "      <tr class=\"spacer\" style=\"height:5px\"></tr>\n",
      "                <tr class='athing' id='28121108'>\n",
      "      <td align=\"right\" valign=\"top\" class=\"title\"><span class=\"rank\">8.</span></td>      <td valign=\"top\" class=\"votelinks\"><center><a id='up_28121108' href='vote?id=28121108&amp;how=up&amp;goto=news'><div class='votearrow' title='upvote'></div></a></center></td><td class=\"title\"><a href=\"https://blog.polybdenum.com/2021/08/09/when-zero-cost-abstractions-aren-t-zero-cost.html\" class=\"storylink\">When zero cost abstractions aren't zero cost</a><span class=\"sitebit comhead\"> (<a href=\"from?site=polybdenum.com\"><span class=\"sitestr\">polybdenum.com</span></a>)</span></td></tr><tr><td colspan=\"2\"></td><td class=\"subtext\">\n",
      "        <span class=\"score\" id=\"score_28121108\">62 points</span> by <a href=\"user?id=harporoeder\" class=\"hnuser\">harporoeder</a> <span class=\"age\" title=\"2021-08-09T19:17:27\"><a href=\"item?id=28121108\">3 hours ago</a></span> <span id=\"unv_28121108\"></span> | <a href=\"hide?id=28121108&amp;goto=news\">hide</a> | <a href=\"item?id=28121108\">13&nbsp;comments</a>              </td></tr>\n",
      "      <tr class=\"spacer\" style=\"height:5px\"></tr>\n",
      "                <tr class='athing' id='28124157'>\n",
      "      <td align=\"right\" valign=\"top\" class=\"title\"><span class=\"rank\">9.</span></td>      <td></td><td class=\"title\"><a href=\"https://relationshiphero.com/careers?role=salesAssociate\" class=\"storylink\" rel=\"nofollow\">Relationship Hero (YC S17) Is Hiring Sales Associates – Full Time Remote</a><span class=\"sitebit comhead\"> (<a href=\"from?site=relationshiphero.com\"><span class=\"sitestr\">relationshiphero.com</span></a>)</span></td></tr><tr><td colspan=\"2\"></td><td class=\"subtext\">\n",
      "        <span class=\"age\" title=\"2021-08-10T01:01:11\"><a href=\"item?id=28124157\">1 hour ago</a></span> | <a href=\"hide?id=28124157&amp;goto=news\">hide</a>      </td></tr>\n",
      "      <tr class=\"spacer\" style=\"height:5px\"></tr>\n",
      "                <tr class='athing' id='28119943'>\n",
      "      <td align=\"right\" valign=\"top\" class=\"title\"><span class=\"rank\">10.</span></td>      <td valign=\"top\" class=\"votelinks\"><center><a id='up_28119943' href='vote?id=28119943&amp;how=up&amp;goto=news'><div class='votearrow' title='upvote'></div></a></center></td><td class=\"title\"><a href=\"https://www.thecgo.org/news/bring-back-hydrogen-lifting-gas/\" class=\"storylink\">Bring back hydrogen lifting gas</a><span class=\"sitebit comhead\"> (<a href=\"from?site=thecgo.org\"><span class=\"sitestr\">thecgo.org</span></a>)</span></td></tr><tr><td colspan=\"2\"></td><td class=\"subtext\">\n",
      "        <span class=\"score\" id=\"score_28119943\">180 points</span> by <a href=\"user?id=harporoeder\" class=\"hnuser\">harporoeder</a> <span class=\"age\" title=\"2021-08-09T17:50:13\"><a href=\"item?id=28119943\">8 hours ago</a></span> <span id=\"unv_28119943\"></span> | <a href=\"hide?id=28119943&amp;goto=news\">hide</a> | <a href=\"item?id=28119943\">226&nbsp;comments</a>              </td></tr>\n",
      "      <tr class=\"spacer\" style=\"height:5px\"></tr>\n",
      "                <tr class='athing' id='28119633'>\n",
      "      <td align=\"right\" valign=\"top\" class=\"title\"><span class=\"rank\">11.</span></td>      <td valign=\"top\" class=\"votelinks\"><center><a id='up_28119633' href='vote?id=28119633&amp;how=up&amp;goto=news'><div class='votearrow' title='upvote'></div></a></center></td><td class=\"title\"><a href=\"https://www.esa.int/Science_Exploration/Space_Science/BepiColombo/Why_does_it_take_so_long_to_get_to_Mercury\" class=\"storylink\">Why does it take so long to get to Mercury?</a><span class=\"sitebit comhead\"> (<a href=\"from?site=esa.int\"><span class=\"sitestr\">esa.int</span></a>)</span></td></tr><tr><td colspan=\"2\"></td><td class=\"subtext\">\n",
      "        <span class=\"score\" id=\"score_28119633\">142 points</span> by <a href=\"user?id=5faulker\" class=\"hnuser\">5faulker</a> <span class=\"age\" title=\"2021-08-09T17:26:24\"><a href=\"item?id=28119633\">7 hours ago</a></span> <span id=\"unv_28119633\"></span> | <a href=\"hide?id=28119633&amp;goto=news\">hide</a> | <a href=\"item?id=28119633\">75&nbsp;comments</a>              </td></tr>\n",
      "      <tr class=\"spacer\" style=\"height:5px\"></tr>\n",
      "                <tr class='athing' id='28123203'>\n",
      "      <td align=\"right\" valign=\"top\" class=\"title\"><span class=\"rank\">12.</span></td>      <td valign=\"top\" class=\"votelinks\"><center><a id='up_28123203' href='vote?id=28123203&amp;how=up&amp;goto=news'><div class='votearrow' title='upvote'></div></a></center></td><td class=\"title\"><a href=\"https://www.ecosophia.net/the-future-is-a-landscape/\" class=\"storylink\">The Future Is a Landscape</a><span class=\"sitebit comhead\"> (<a href=\"from?site=ecosophia.net\"><span class=\"sitestr\">ecosophia.net</span></a>)</span></td></tr><tr><td colspan=\"2\"></td><td class=\"subtext\">\n",
      "        <span class=\"score\" id=\"score_28123203\">32 points</span> by <a href=\"user?id=spats1990\" class=\"hnuser\">spats1990</a> <span class=\"age\" title=\"2021-08-09T22:40:30\"><a href=\"item?id=28123203\">3 hours ago</a></span> <span id=\"unv_28123203\"></span> | <a href=\"hide?id=28123203&amp;goto=news\">hide</a> | <a href=\"item?id=28123203\">6&nbsp;comments</a>              </td></tr>\n",
      "      <tr class=\"spacer\" style=\"height:5px\"></tr>\n",
      "                <tr class='athing' id='28121870'>\n",
      "      <td align=\"right\" valign=\"top\" class=\"title\"><span class=\"rank\">13.</span></td>      <td valign=\"top\" class=\"votelinks\"><center><a id='up_28121870' href='vote?id=28121870&amp;how=up&amp;goto=news'><div class='votearrow' title='upvote'></div></a></center></td><td class=\"title\"><a href=\"http://www.cs.columbia.edu/~tr/s20/s20.html\" class=\"storylink\">Incentives in Computer Science</a><span class=\"sitebit comhead\"> (<a href=\"from?site=columbia.edu\"><span class=\"sitestr\">columbia.edu</span></a>)</span></td></tr><tr><td colspan=\"2\"></td><td class=\"subtext\">\n",
      "        <span class=\"score\" id=\"score_28121870\">70 points</span> by <a href=\"user?id=simonpure\" class=\"hnuser\">simonpure</a> <span class=\"age\" title=\"2021-08-09T20:20:50\"><a href=\"item?id=28121870\">5 hours ago</a></span> <span id=\"unv_28121870\"></span> | <a href=\"hide?id=28121870&amp;goto=news\">hide</a> | <a href=\"item?id=28121870\">3&nbsp;comments</a>              </td></tr>\n",
      "      <tr class=\"spacer\" style=\"height:5px\"></tr>\n",
      "                <tr class='athing' id='28122173'>\n",
      "      <td align=\"right\" valign=\"top\" class=\"title\"><span class=\"rank\">14.</span></td>      <td valign=\"top\" class=\"votelinks\"><center><a id='up_28122173' href='vote?id=28122173&amp;how=up&amp;goto=news'><div class='votearrow' title='upvote'></div></a></center></td><td class=\"title\"><a href=\"https://get21stnight.com/2021/08/09/difficult-math-is-about-recognizing-patterns-lessons-from-jeff-bezos/\" class=\"storylink\">Difficult math is about recognizing patterns</a><span class=\"sitebit comhead\"> (<a href=\"from?site=get21stnight.com\"><span class=\"sitestr\">get21stnight.com</span></a>)</span></td></tr><tr><td colspan=\"2\"></td><td class=\"subtext\">\n",
      "        <span class=\"score\" id=\"score_28122173\">64 points</span> by <a href=\"user?id=klevertree\" class=\"hnuser\">klevertree</a> <span class=\"age\" title=\"2021-08-09T20:49:09\"><a href=\"item?id=28122173\">5 hours ago</a></span> <span id=\"unv_28122173\"></span> | <a href=\"hide?id=28122173&amp;goto=news\">hide</a> | <a href=\"item?id=28122173\">38&nbsp;comments</a>              </td></tr>\n",
      "      <tr class=\"spacer\" style=\"height:5px\"></tr>\n",
      "                <tr class='athing' id='28123374'>\n",
      "      <td align=\"right\" valign=\"top\" class=\"title\"><span class=\"rank\">15.</span></td>      <td valign=\"top\" class=\"votelinks\"><center><a id='up_28123374' href='vote?id=28123374&amp;how=up&amp;goto=news'><div class='votearrow' title='upvote'></div></a></center></td><td class=\"title\"><a href=\"https://today.duke.edu/2021/08/drug-resistant-bacteria-found-guts-lemurs-who-live-around-humans\" class=\"storylink\">Drug-resistant bacteria found in the guts of lemurs who live around humans</a><span class=\"sitebit comhead\"> (<a href=\"from?site=duke.edu\"><span class=\"sitestr\">duke.edu</span></a>)</span></td></tr><tr><td colspan=\"2\"></td><td class=\"subtext\">\n",
      "        <span class=\"score\" id=\"score_28123374\">17 points</span> by <a href=\"user?id=hhs\" class=\"hnuser\">hhs</a> <span class=\"age\" title=\"2021-08-09T23:00:37\"><a href=\"item?id=28123374\">3 hours ago</a></span> <span id=\"unv_28123374\"></span> | <a href=\"hide?id=28123374&amp;goto=news\">hide</a> | <a href=\"item?id=28123374\">1&nbsp;comment</a>              </td></tr>\n",
      "      <tr class=\"spacer\" style=\"height:5px\"></tr>\n",
      "                <tr class='athing' id='28122799'>\n",
      "      <td align=\"right\" valign=\"top\" class=\"title\"><span class=\"rank\">16.</span></td>      <td valign=\"top\" class=\"votelinks\"><center><a id='up_28122799' href='vote?id=28122799&amp;how=up&amp;goto=news'><div class='votearrow' title='upvote'></div></a></center></td><td class=\"title\"><a href=\"https://en.currenttime.tv/a/seeking-change-anti-lukashenka-hackers-seize-senior-belarusian-officials-personal-data-/31392092.html\" class=\"storylink\">Anti-Lukashenka hackers seize senior Belarusian officials' personal data</a><span class=\"sitebit comhead\"> (<a href=\"from?site=currenttime.tv\"><span class=\"sitestr\">currenttime.tv</span></a>)</span></td></tr><tr><td colspan=\"2\"></td><td class=\"subtext\">\n",
      "        <span class=\"score\" id=\"score_28122799\">162 points</span> by <a href=\"user?id=dmitryminkovsky\" class=\"hnuser\">dmitryminkovsky</a> <span class=\"age\" title=\"2021-08-09T21:55:37\"><a href=\"item?id=28122799\">4 hours ago</a></span> <span id=\"unv_28122799\"></span> | <a href=\"hide?id=28122799&amp;goto=news\">hide</a> | <a href=\"item?id=28122799\">66&nbsp;comments</a>              </td></tr>\n",
      "      <tr class=\"spacer\" style=\"height:5px\"></tr>\n",
      "                <tr class='athing' id='28119025'>\n",
      "      <td align=\"right\" valign=\"top\" class=\"title\"><span class=\"rank\">17.</span></td>      <td valign=\"top\" class=\"votelinks\"><center><a id='up_28119025' href='vote?id=28119025&amp;how=up&amp;goto=news'><div class='votearrow' title='upvote'></div></a></center></td><td class=\"title\"><a href=\"https://bitfieldconsulting.com/blog/got-game-secrets-of-great-incident-management\" class=\"storylink\">Fundamentals of Incident Management</a><span class=\"sitebit comhead\"> (<a href=\"from?site=bitfieldconsulting.com\"><span class=\"sitestr\">bitfieldconsulting.com</span></a>)</span></td></tr><tr><td colspan=\"2\"></td><td class=\"subtext\">\n",
      "        <span class=\"score\" id=\"score_28119025\">128 points</span> by <a href=\"user?id=bitfield\" class=\"hnuser\">bitfield</a> <span class=\"age\" title=\"2021-08-09T16:38:28\"><a href=\"item?id=28119025\">9 hours ago</a></span> <span id=\"unv_28119025\"></span> | <a href=\"hide?id=28119025&amp;goto=news\">hide</a> | <a href=\"item?id=28119025\">50&nbsp;comments</a>              </td></tr>\n",
      "      <tr class=\"spacer\" style=\"height:5px\"></tr>\n",
      "                <tr class='athing' id='28108628'>\n",
      "      <td align=\"right\" valign=\"top\" class=\"title\"><span class=\"rank\">18.</span></td>      <td valign=\"top\" class=\"votelinks\"><center><a id='up_28108628' href='vote?id=28108628&amp;how=up&amp;goto=news'><div class='votearrow' title='upvote'></div></a></center></td><td class=\"title\"><a href=\"https://nibblestew.blogspot.com/2021/02/why-most-programming-language.html?m=1\" class=\"storylink\" rel=\"nofollow\">Why most programming language performance comparisons are most likely wrong</a><span class=\"sitebit comhead\"> (<a href=\"from?site=nibblestew.blogspot.com\"><span class=\"sitestr\">nibblestew.blogspot.com</span></a>)</span></td></tr><tr><td colspan=\"2\"></td><td class=\"subtext\">\n",
      "        <span class=\"score\" id=\"score_28108628\">6 points</span> by <a href=\"user?id=Sindisil\" class=\"hnuser\">Sindisil</a> <span class=\"age\" title=\"2021-08-08T17:54:19\"><a href=\"item?id=28108628\">1 hour ago</a></span> <span id=\"unv_28108628\"></span> | <a href=\"hide?id=28108628&amp;goto=news\">hide</a> | <a href=\"item?id=28108628\">1&nbsp;comment</a>              </td></tr>\n",
      "      <tr class=\"spacer\" style=\"height:5px\"></tr>\n",
      "                <tr class='athing' id='28122289'>\n",
      "      <td align=\"right\" valign=\"top\" class=\"title\"><span class=\"rank\">19.</span></td>      <td valign=\"top\" class=\"votelinks\"><center><a id='up_28122289' href='vote?id=28122289&amp;how=up&amp;goto=news'><div class='votearrow' title='upvote'></div></a></center></td><td class=\"title\"><a href=\"https://thegradient.pub/machine-learning-wont-solve-the-natural-language-understanding-challenge/\" class=\"storylink\">Machine learning won't solve natural language understanding</a><span class=\"sitebit comhead\"> (<a href=\"from?site=thegradient.pub\"><span class=\"sitestr\">thegradient.pub</span></a>)</span></td></tr><tr><td colspan=\"2\"></td><td class=\"subtext\">\n",
      "        <span class=\"score\" id=\"score_28122289\">90 points</span> by <a href=\"user?id=andreyk\" class=\"hnuser\">andreyk</a> <span class=\"age\" title=\"2021-08-09T21:01:26\"><a href=\"item?id=28122289\">5 hours ago</a></span> <span id=\"unv_28122289\"></span> | <a href=\"hide?id=28122289&amp;goto=news\">hide</a> | <a href=\"item?id=28122289\">73&nbsp;comments</a>              </td></tr>\n",
      "      <tr class=\"spacer\" style=\"height:5px\"></tr>\n",
      "                <tr class='athing' id='28118350'>\n",
      "      <td align=\"right\" valign=\"top\" class=\"title\"><span class=\"rank\">20.</span></td>      <td valign=\"top\" class=\"votelinks\"><center><a id='up_28118350' href='vote?id=28118350&amp;how=up&amp;goto=news'><div class='votearrow' title='upvote'></div></a></center></td><td class=\"title\"><a href=\"https://stratechery.com/2021/apples-mistake/\" class=\"storylink\">Apple’s Mistake</a><span class=\"sitebit comhead\"> (<a href=\"from?site=stratechery.com\"><span class=\"sitestr\">stratechery.com</span></a>)</span></td></tr><tr><td colspan=\"2\"></td><td class=\"subtext\">\n",
      "        <span class=\"score\" id=\"score_28118350\">1053 points</span> by <a href=\"user?id=feross\" class=\"hnuser\">feross</a> <span class=\"age\" title=\"2021-08-09T15:47:22\"><a href=\"item?id=28118350\">10 hours ago</a></span> <span id=\"unv_28118350\"></span> | <a href=\"hide?id=28118350&amp;goto=news\">hide</a> | <a href=\"item?id=28118350\">699&nbsp;comments</a>              </td></tr>\n",
      "      <tr class=\"spacer\" style=\"height:5px\"></tr>\n",
      "                <tr class='athing' id='28120247'>\n",
      "      <td align=\"right\" valign=\"top\" class=\"title\"><span class=\"rank\">21.</span></td>      <td valign=\"top\" class=\"votelinks\"><center><a id='up_28120247' href='vote?id=28120247&amp;how=up&amp;goto=news'><div class='votearrow' title='upvote'></div></a></center></td><td class=\"title\"><a href=\"https://colab.research.google.com/drive/1n_xrgKDlGQcCF6O-eL3NOd_x4NSqAUjK\" class=\"storylink\">Show HN: Free, Accessible AI Art Generator</a><span class=\"sitebit comhead\"> (<a href=\"from?site=research.google.com\"><span class=\"sitestr\">research.google.com</span></a>)</span></td></tr><tr><td colspan=\"2\"></td><td class=\"subtext\">\n",
      "        <span class=\"score\" id=\"score_28120247\">106 points</span> by <a href=\"user?id=hwayne\" class=\"hnuser\">hwayne</a> <span class=\"age\" title=\"2021-08-09T18:16:32\"><a href=\"item?id=28120247\">8 hours ago</a></span> <span id=\"unv_28120247\"></span> | <a href=\"hide?id=28120247&amp;goto=news\">hide</a> | <a href=\"item?id=28120247\">26&nbsp;comments</a>              </td></tr>\n",
      "      <tr class=\"spacer\" style=\"height:5px\"></tr>\n",
      "                <tr class='athing' id='28122056'>\n",
      "      <td align=\"right\" valign=\"top\" class=\"title\"><span class=\"rank\">22.</span></td>      <td valign=\"top\" class=\"votelinks\"><center><a id='up_28122056' href='vote?id=28122056&amp;how=up&amp;goto=news'><div class='votearrow' title='upvote'></div></a></center></td><td class=\"title\"><a href=\"https://github.com/sergiotapia/torrentinim\" class=\"storylink\">Show HN: Torrentinim – low memory-footprint, API-only torrent search engine</a><span class=\"sitebit comhead\"> (<a href=\"from?site=github.com/sergiotapia\"><span class=\"sitestr\">github.com/sergiotapia</span></a>)</span></td></tr><tr><td colspan=\"2\"></td><td class=\"subtext\">\n",
      "        <span class=\"score\" id=\"score_28122056\">63 points</span> by <a href=\"user?id=sergiotapia\" class=\"hnuser\">sergiotapia</a> <span class=\"age\" title=\"2021-08-09T20:37:48\"><a href=\"item?id=28122056\">5 hours ago</a></span> <span id=\"unv_28122056\"></span> | <a href=\"hide?id=28122056&amp;goto=news\">hide</a> | <a href=\"item?id=28122056\">16&nbsp;comments</a>              </td></tr>\n",
      "      <tr class=\"spacer\" style=\"height:5px\"></tr>\n",
      "                <tr class='athing' id='28116791'>\n",
      "      <td align=\"right\" valign=\"top\" class=\"title\"><span class=\"rank\">23.</span></td>      <td valign=\"top\" class=\"votelinks\"><center><a id='up_28116791' href='vote?id=28116791&amp;how=up&amp;goto=news'><div class='votearrow' title='upvote'></div></a></center></td><td class=\"title\"><a href=\"https://www.mindat.org/a/minecraft\" class=\"storylink\">The Rocks and Minerals of Minecraft</a><span class=\"sitebit comhead\"> (<a href=\"from?site=mindat.org\"><span class=\"sitestr\">mindat.org</span></a>)</span></td></tr><tr><td colspan=\"2\"></td><td class=\"subtext\">\n",
      "        <span class=\"score\" id=\"score_28116791\">252 points</span> by <a href=\"user?id=colinprince\" class=\"hnuser\">colinprince</a> <span class=\"age\" title=\"2021-08-09T13:50:36\"><a href=\"item?id=28116791\">12 hours ago</a></span> <span id=\"unv_28116791\"></span> | <a href=\"hide?id=28116791&amp;goto=news\">hide</a> | <a href=\"item?id=28116791\">73&nbsp;comments</a>              </td></tr>\n",
      "      <tr class=\"spacer\" style=\"height:5px\"></tr>\n",
      "                <tr class='athing' id='28109871'>\n",
      "      <td align=\"right\" valign=\"top\" class=\"title\"><span class=\"rank\">24.</span></td>      <td valign=\"top\" class=\"votelinks\"><center><a id='up_28109871' href='vote?id=28109871&amp;how=up&amp;goto=news'><div class='votearrow' title='upvote'></div></a></center></td><td class=\"title\"><a href=\"http://www.stochasticlifestyle.com/modelingtoolkit-modelica-and-modia-the-composable-modeling-future-in-julia/\" class=\"storylink\">ModelingToolkit, Modelica, and Modia: The Composable Modeling Future in Julia</a><span class=\"sitebit comhead\"> (<a href=\"from?site=stochasticlifestyle.com\"><span class=\"sitestr\">stochasticlifestyle.com</span></a>)</span></td></tr><tr><td colspan=\"2\"></td><td class=\"subtext\">\n",
      "        <span class=\"score\" id=\"score_28109871\">28 points</span> by <a href=\"user?id=mindB\" class=\"hnuser\">mindB</a> <span class=\"age\" title=\"2021-08-08T20:36:21\"><a href=\"item?id=28109871\">4 hours ago</a></span> <span id=\"unv_28109871\"></span> | <a href=\"hide?id=28109871&amp;goto=news\">hide</a> | <a href=\"item?id=28109871\">2&nbsp;comments</a>              </td></tr>\n",
      "      <tr class=\"spacer\" style=\"height:5px\"></tr>\n",
      "                <tr class='athing' id='28115438'>\n",
      "      <td align=\"right\" valign=\"top\" class=\"title\"><span class=\"rank\">25.</span></td>      <td valign=\"top\" class=\"votelinks\"><center><a id='up_28115438' href='vote?id=28115438&amp;how=up&amp;goto=news'><div class='votearrow' title='upvote'></div></a></center></td><td class=\"title\"><a href=\"https://www.fratellowatches.com/how-watches-work-what-is-an-automatic-watch-and-what-different-types-of-winding-weights-are-there/\" class=\"storylink\">How Watches Work</a><span class=\"sitebit comhead\"> (<a href=\"from?site=fratellowatches.com\"><span class=\"sitestr\">fratellowatches.com</span></a>)</span></td></tr><tr><td colspan=\"2\"></td><td class=\"subtext\">\n",
      "        <span class=\"score\" id=\"score_28115438\">222 points</span> by <a href=\"user?id=nstricevic\" class=\"hnuser\">nstricevic</a> <span class=\"age\" title=\"2021-08-09T11:37:59\"><a href=\"item?id=28115438\">14 hours ago</a></span> <span id=\"unv_28115438\"></span> | <a href=\"hide?id=28115438&amp;goto=news\">hide</a> | <a href=\"item?id=28115438\">117&nbsp;comments</a>              </td></tr>\n",
      "      <tr class=\"spacer\" style=\"height:5px\"></tr>\n",
      "                <tr class='athing' id='28115550'>\n",
      "      <td align=\"right\" valign=\"top\" class=\"title\"><span class=\"rank\">26.</span></td>      <td valign=\"top\" class=\"votelinks\"><center><a id='up_28115550' href='vote?id=28115550&amp;how=up&amp;goto=news'><div class='votearrow' title='upvote'></div></a></center></td><td class=\"title\"><a href=\"https://www.businessinsider.com/youtuber-won-10000-bet-with-physicist-over-wind-powered-vehicle-2021-7\" class=\"storylink\">A wind-powered vehicle that can travel twice as fast as the wind itself</a><span class=\"sitebit comhead\"> (<a href=\"from?site=businessinsider.com\"><span class=\"sitestr\">businessinsider.com</span></a>)</span></td></tr><tr><td colspan=\"2\"></td><td class=\"subtext\">\n",
      "        <span class=\"score\" id=\"score_28115550\">190 points</span> by <a href=\"user?id=dutchbrit\" class=\"hnuser\">dutchbrit</a> <span class=\"age\" title=\"2021-08-09T11:49:19\"><a href=\"item?id=28115550\">14 hours ago</a></span> <span id=\"unv_28115550\"></span> | <a href=\"hide?id=28115550&amp;goto=news\">hide</a> | <a href=\"item?id=28115550\">207&nbsp;comments</a>              </td></tr>\n",
      "      <tr class=\"spacer\" style=\"height:5px\"></tr>\n",
      "                <tr class='athing' id='28113901'>\n",
      "      <td align=\"right\" valign=\"top\" class=\"title\"><span class=\"rank\">27.</span></td>      <td valign=\"top\" class=\"votelinks\"><center><a id='up_28113901' href='vote?id=28113901&amp;how=up&amp;goto=news'><div class='votearrow' title='upvote'></div></a></center></td><td class=\"title\"><a href=\"https://github.com/jepsen-io/elle\" class=\"storylink\">Elle: A transactional consistency checker for black-box databases</a><span class=\"sitebit comhead\"> (<a href=\"from?site=github.com/jepsen-io\"><span class=\"sitestr\">github.com/jepsen-io</span></a>)</span></td></tr><tr><td colspan=\"2\"></td><td class=\"subtext\">\n",
      "        <span class=\"score\" id=\"score_28113901\">58 points</span> by <a href=\"user?id=wowi42\" class=\"hnuser\">wowi42</a> <span class=\"age\" title=\"2021-08-09T08:27:18\"><a href=\"item?id=28113901\">6 hours ago</a></span> <span id=\"unv_28113901\"></span> | <a href=\"hide?id=28113901&amp;goto=news\">hide</a> | <a href=\"item?id=28113901\">7&nbsp;comments</a>              </td></tr>\n",
      "      <tr class=\"spacer\" style=\"height:5px\"></tr>\n",
      "                <tr class='athing' id='28115791'>\n",
      "      <td align=\"right\" valign=\"top\" class=\"title\"><span class=\"rank\">28.</span></td>      <td valign=\"top\" class=\"votelinks\"><center><a id='up_28115791' href='vote?id=28115791&amp;how=up&amp;goto=news'><div class='votearrow' title='upvote'></div></a></center></td><td class=\"title\"><a href=\"https://learn.adafruit.com/build-your-own-next-with-a-virtual-machine?view=all\" class=\"storylink\">Build your own NeXT with a virtual machine</a><span class=\"sitebit comhead\"> (<a href=\"from?site=adafruit.com\"><span class=\"sitestr\">adafruit.com</span></a>)</span></td></tr><tr><td colspan=\"2\"></td><td class=\"subtext\">\n",
      "        <span class=\"score\" id=\"score_28115791\">202 points</span> by <a href=\"user?id=marcodiego\" class=\"hnuser\">marcodiego</a> <span class=\"age\" title=\"2021-08-09T12:15:30\"><a href=\"item?id=28115791\">14 hours ago</a></span> <span id=\"unv_28115791\"></span> | <a href=\"hide?id=28115791&amp;goto=news\">hide</a> | <a href=\"item?id=28115791\">114&nbsp;comments</a>              </td></tr>\n",
      "      <tr class=\"spacer\" style=\"height:5px\"></tr>\n",
      "                <tr class='athing' id='28116888'>\n",
      "      <td align=\"right\" valign=\"top\" class=\"title\"><span class=\"rank\">29.</span></td>      <td valign=\"top\" class=\"votelinks\"><center><a id='up_28116888' href='vote?id=28116888&amp;how=up&amp;goto=news'><div class='votearrow' title='upvote'></div></a></center></td><td class=\"title\"><a href=\"https://www.joshwcomeau.com/css/transforms/\" class=\"storylink\">The World of CSS Transforms</a><span class=\"sitebit comhead\"> (<a href=\"from?site=joshwcomeau.com\"><span class=\"sitestr\">joshwcomeau.com</span></a>)</span></td></tr><tr><td colspan=\"2\"></td><td class=\"subtext\">\n",
      "        <span class=\"score\" id=\"score_28116888\">251 points</span> by <a href=\"user?id=joshwcomeau\" class=\"hnuser\">joshwcomeau</a> <span class=\"age\" title=\"2021-08-09T13:57:57\"><a href=\"item?id=28116888\">12 hours ago</a></span> <span id=\"unv_28116888\"></span> | <a href=\"hide?id=28116888&amp;goto=news\">hide</a> | <a href=\"item?id=28116888\">63&nbsp;comments</a>              </td></tr>\n",
      "      <tr class=\"spacer\" style=\"height:5px\"></tr>\n",
      "                <tr class='athing' id='28109426'>\n",
      "      <td align=\"right\" valign=\"top\" class=\"title\"><span class=\"rank\">30.</span></td>      <td valign=\"top\" class=\"votelinks\"><center><a id='up_28109426' href='vote?id=28109426&amp;how=up&amp;goto=news'><div class='votearrow' title='upvote'></div></a></center></td><td class=\"title\"><a href=\"https://github.com/sdushantha/snaprecovery\" class=\"storylink\">Snaprecovery: Recover old Snaps that have “disappeared” from Snapchat</a><span class=\"sitebit comhead\"> (<a href=\"from?site=github.com/sdushantha\"><span class=\"sitestr\">github.com/sdushantha</span></a>)</span></td></tr><tr><td colspan=\"2\"></td><td class=\"subtext\">\n",
      "        <span class=\"score\" id=\"score_28109426\">58 points</span> by <a href=\"user?id=blopeur\" class=\"hnuser\">blopeur</a> <span class=\"age\" title=\"2021-08-08T19:36:02\"><a href=\"item?id=28109426\">7 hours ago</a></span> <span id=\"unv_28109426\"></span> | <a href=\"hide?id=28109426&amp;goto=news\">hide</a> | <a href=\"item?id=28109426\">17&nbsp;comments</a>              </td></tr>\n",
      "      <tr class=\"spacer\" style=\"height:5px\"></tr>\n",
      "            <tr class=\"morespace\" style=\"height:10px\"></tr><tr><td colspan=\"2\"></td><td class=\"title\"><a href=\"news?p=2\" class=\"morelink\" rel=\"next\">More</a></td></tr>\n",
      "  </table>\n",
      "</td></tr>\n",
      "<tr><td><img src=\"s.gif\" height=\"10\" width=\"0\"><table width=\"100%\" cellspacing=\"0\" cellpadding=\"1\"><tr><td bgcolor=\"#ff6600\"></td></tr></table><br><center><a href=\"https://www.ycombinator.com/apply/\">\n",
      "        Applications are open for YC Winter 2022\n",
      "      </a></center><br><center><span class=\"yclinks\"><a href=\"newsguidelines.html\">Guidelines</a>\n",
      "        | <a href=\"newsfaq.html\">FAQ</a>\n",
      "        | <a href=\"lists\">Lists</a>\n",
      "        | <a href=\"https://github.com/HackerNews/API\">API</a>\n",
      "        | <a href=\"security.html\">Security</a>\n",
      "        | <a href=\"http://www.ycombinator.com/legal/\">Legal</a>\n",
      "        | <a href=\"http://www.ycombinator.com/apply/\">Apply to YC</a>\n",
      "        | <a href=\"mailto:hn@ycombinator.com\">Contact</a></span><br><br><form method=\"get\" action=\"//hn.algolia.com/\">Search:\n",
      "          <input type=\"text\" name=\"q\" value=\"\" size=\"17\" autocorrect=\"off\" spellcheck=\"false\" autocapitalize=\"off\" autocomplete=\"false\"></form>\n",
      "            </center></td></tr>\n",
      "      </table></center></body><script type='text/javascript' src='hn.js?ROmKTrrW2BGQTQko9J1b'></script></html>\n",
      "\n"
     ]
    }
   ],
   "source": [
    "import requests\n",
    "\n",
    "# Fetch a web page\n",
    "r = requests.get(\"https://news.ycombinator.com\")\n",
    "print(r.text)"
   ]
  },
  {
   "cell_type": "code",
   "execution_count": 5,
   "metadata": {},
   "outputs": [
    {
     "name": "stdout",
     "output_type": "stream",
     "text": [
      "\n",
      "        \n",
      "          \n",
      "        Hacker News\n",
      "        \n",
      "                  Hacker News\n",
      "              new | past | comments | ask | show | jobs | submit            \n",
      "                              login\n",
      "                          \n",
      "              \n",
      "\n",
      "              \n",
      "      1.      Mexico is phasing out imports of glyphosate and GMO corn (thecounter.org)\n",
      "        46 points by walterbell 1 hour ago  | hide | 14&nbsp;comments              \n",
      "      \n",
      "                \n",
      "      2.      New carnivorous plant discovered in Pacific Northwest (npr.org)\n",
      "        293 points by bryan0 5 hours ago  | hide | 67&nbsp;comments              \n",
      "      \n",
      "                \n",
      "      3.      Wildfire restored a Yosemite watershed (news.berkeley.edu)\n",
      "        237 points by incomplete 7 hours ago  | hide | 135&nbsp;comments              \n",
      "      \n",
      "                \n",
      "      4.      Top 5% Polluting Power Plants Account for 73% of Global Emissions (oilprice.com)\n",
      "        41 points by vimy 3 hours ago  | hide | 10&nbsp;comments              \n",
      "      \n",
      "                \n",
      "      5.      Stages of Denial (beyondloom.com)\n",
      "        83 points by clashmeifyoucan 4 hours ago  | hide | 26&nbsp;comments              \n",
      "      \n",
      "                \n",
      "      6.      What happens if you stick your head in a particle accelerator? (2017) (aeon.co)\n",
      "        44 points by sakopov 3 hours ago  | hide | 17&nbsp;comments              \n",
      "      \n",
      "                \n",
      "      7.      New York Public Library’s Picture Collection Will Be Archived (nytimes.com)\n",
      "        36 points by brudgers 2 hours ago  | hide | 4&nbsp;comments              \n",
      "      \n",
      "                \n",
      "      8.      When zero cost abstractions aren't zero cost (polybdenum.com)\n",
      "        62 points by harporoeder 3 hours ago  | hide | 13&nbsp;comments              \n",
      "      \n",
      "                \n",
      "      9.      Relationship Hero (YC S17) Is Hiring Sales Associates – Full Time Remote (relationshiphero.com)\n",
      "        1 hour ago | hide      \n",
      "      \n",
      "                \n",
      "      10.      Bring back hydrogen lifting gas (thecgo.org)\n",
      "        180 points by harporoeder 8 hours ago  | hide | 226&nbsp;comments              \n",
      "      \n",
      "                \n",
      "      11.      Why does it take so long to get to Mercury? (esa.int)\n",
      "        142 points by 5faulker 7 hours ago  | hide | 75&nbsp;comments              \n",
      "      \n",
      "                \n",
      "      12.      The Future Is a Landscape (ecosophia.net)\n",
      "        32 points by spats1990 3 hours ago  | hide | 6&nbsp;comments              \n",
      "      \n",
      "                \n",
      "      13.      Incentives in Computer Science (columbia.edu)\n",
      "        70 points by simonpure 5 hours ago  | hide | 3&nbsp;comments              \n",
      "      \n",
      "                \n",
      "      14.      Difficult math is about recognizing patterns (get21stnight.com)\n",
      "        64 points by klevertree 5 hours ago  | hide | 38&nbsp;comments              \n",
      "      \n",
      "                \n",
      "      15.      Drug-resistant bacteria found in the guts of lemurs who live around humans (duke.edu)\n",
      "        17 points by hhs 3 hours ago  | hide | 1&nbsp;comment              \n",
      "      \n",
      "                \n",
      "      16.      Anti-Lukashenka hackers seize senior Belarusian officials' personal data (currenttime.tv)\n",
      "        162 points by dmitryminkovsky 4 hours ago  | hide | 66&nbsp;comments              \n",
      "      \n",
      "                \n",
      "      17.      Fundamentals of Incident Management (bitfieldconsulting.com)\n",
      "        128 points by bitfield 9 hours ago  | hide | 50&nbsp;comments              \n",
      "      \n",
      "                \n",
      "      18.      Why most programming language performance comparisons are most likely wrong (nibblestew.blogspot.com)\n",
      "        6 points by Sindisil 1 hour ago  | hide | 1&nbsp;comment              \n",
      "      \n",
      "                \n",
      "      19.      Machine learning won't solve natural language understanding (thegradient.pub)\n",
      "        90 points by andreyk 5 hours ago  | hide | 73&nbsp;comments              \n",
      "      \n",
      "                \n",
      "      20.      Apple’s Mistake (stratechery.com)\n",
      "        1053 points by feross 10 hours ago  | hide | 699&nbsp;comments              \n",
      "      \n",
      "                \n",
      "      21.      Show HN: Free, Accessible AI Art Generator (research.google.com)\n",
      "        106 points by hwayne 8 hours ago  | hide | 26&nbsp;comments              \n",
      "      \n",
      "                \n",
      "      22.      Show HN: Torrentinim – low memory-footprint, API-only torrent search engine (github.com/sergiotapia)\n",
      "        63 points by sergiotapia 5 hours ago  | hide | 16&nbsp;comments              \n",
      "      \n",
      "                \n",
      "      23.      The Rocks and Minerals of Minecraft (mindat.org)\n",
      "        252 points by colinprince 12 hours ago  | hide | 73&nbsp;comments              \n",
      "      \n",
      "                \n",
      "      24.      ModelingToolkit, Modelica, and Modia: The Composable Modeling Future in Julia (stochasticlifestyle.com)\n",
      "        28 points by mindB 4 hours ago  | hide | 2&nbsp;comments              \n",
      "      \n",
      "                \n",
      "      25.      How Watches Work (fratellowatches.com)\n",
      "        222 points by nstricevic 14 hours ago  | hide | 117&nbsp;comments              \n",
      "      \n",
      "                \n",
      "      26.      A wind-powered vehicle that can travel twice as fast as the wind itself (businessinsider.com)\n",
      "        190 points by dutchbrit 14 hours ago  | hide | 207&nbsp;comments              \n",
      "      \n",
      "                \n",
      "      27.      Elle: A transactional consistency checker for black-box databases (github.com/jepsen-io)\n",
      "        58 points by wowi42 6 hours ago  | hide | 7&nbsp;comments              \n",
      "      \n",
      "                \n",
      "      28.      Build your own NeXT with a virtual machine (adafruit.com)\n",
      "        202 points by marcodiego 14 hours ago  | hide | 114&nbsp;comments              \n",
      "      \n",
      "                \n",
      "      29.      The World of CSS Transforms (joshwcomeau.com)\n",
      "        251 points by joshwcomeau 12 hours ago  | hide | 63&nbsp;comments              \n",
      "      \n",
      "                \n",
      "      30.      Snaprecovery: Recover old Snaps that have “disappeared” from Snapchat (github.com/sdushantha)\n",
      "        58 points by blopeur 7 hours ago  | hide | 17&nbsp;comments              \n",
      "      \n",
      "            More\n",
      "  \n",
      "\n",
      "\n",
      "        Applications are open for YC Winter 2022\n",
      "      Guidelines\n",
      "        | FAQ\n",
      "        | Lists\n",
      "        | API\n",
      "        | Security\n",
      "        | Legal\n",
      "        | Apply to YC\n",
      "        | ContactSearch:\n",
      "          \n",
      "            \n",
      "      \n",
      "\n"
     ]
    }
   ],
   "source": [
    "import re\n",
    "\n",
    "# Remove HTML tags using RegEx\n",
    "pattern = re.compile(r'<.*?>')  # tags look like <...>\n",
    "print(pattern.sub('', r.text))  # replace them with blank"
   ]
  },
  {
   "cell_type": "code",
   "execution_count": 6,
   "metadata": {},
   "outputs": [
    {
     "ename": "ModuleNotFoundError",
     "evalue": "No module named 'bs4'",
     "output_type": "error",
     "traceback": [
      "\u001b[0;31m---------------------------------------------------------------------------\u001b[0m",
      "\u001b[0;31mModuleNotFoundError\u001b[0m                       Traceback (most recent call last)",
      "\u001b[0;32m<ipython-input-6-ebd0fd953ad6>\u001b[0m in \u001b[0;36m<module>\u001b[0;34m\u001b[0m\n\u001b[0;32m----> 1\u001b[0;31m \u001b[0;32mfrom\u001b[0m \u001b[0mbs4\u001b[0m \u001b[0;32mimport\u001b[0m \u001b[0mBeautifulSoup\u001b[0m\u001b[0;34m\u001b[0m\u001b[0;34m\u001b[0m\u001b[0m\n\u001b[0m\u001b[1;32m      2\u001b[0m \u001b[0;34m\u001b[0m\u001b[0m\n\u001b[1;32m      3\u001b[0m \u001b[0;31m# Remove HTML tags using Beautiful Soup library\u001b[0m\u001b[0;34m\u001b[0m\u001b[0;34m\u001b[0m\u001b[0;34m\u001b[0m\u001b[0m\n\u001b[1;32m      4\u001b[0m \u001b[0msoup\u001b[0m \u001b[0;34m=\u001b[0m \u001b[0mBeautifulSoup\u001b[0m\u001b[0;34m(\u001b[0m\u001b[0mr\u001b[0m\u001b[0;34m.\u001b[0m\u001b[0mtext\u001b[0m\u001b[0;34m,\u001b[0m \u001b[0;34m\"html5lib\"\u001b[0m\u001b[0;34m)\u001b[0m\u001b[0;34m\u001b[0m\u001b[0;34m\u001b[0m\u001b[0m\n\u001b[1;32m      5\u001b[0m \u001b[0mprint\u001b[0m\u001b[0;34m(\u001b[0m\u001b[0msoup\u001b[0m\u001b[0;34m.\u001b[0m\u001b[0mget_text\u001b[0m\u001b[0;34m(\u001b[0m\u001b[0;34m)\u001b[0m\u001b[0;34m)\u001b[0m\u001b[0;34m\u001b[0m\u001b[0;34m\u001b[0m\u001b[0m\n",
      "\u001b[0;31mModuleNotFoundError\u001b[0m: No module named 'bs4'"
     ]
    }
   ],
   "source": [
    "from bs4 import BeautifulSoup\n",
    "\n",
    "# Remove HTML tags using Beautiful Soup library\n",
    "soup = BeautifulSoup(r.text, \"html5lib\")\n",
    "print(soup.get_text())"
   ]
  },
  {
   "cell_type": "code",
   "execution_count": 7,
   "metadata": {
    "scrolled": true
   },
   "outputs": [
    {
     "data": {
      "text/plain": [
       "<tr class=\"athing\" id=\"28124032\">\n",
       "      <td align=\"right\" class=\"title\" valign=\"top\"><span class=\"rank\">1.</span></td>      <td class=\"votelinks\" valign=\"top\"><center><a href=\"vote?id=28124032&amp;how=up&amp;goto=news\" id=\"up_28124032\"><div class=\"votearrow\" title=\"upvote\"></div></a></center></td><td class=\"title\"><a class=\"storylink\" href=\"https://thecounter.org/mexico-phaseout-glyphosate-genetically-engineered-corn-united-states/\">Mexico is phasing out imports of glyphosate and GMO corn</a><span class=\"sitebit comhead\"> (<a href=\"from?site=thecounter.org\"><span class=\"sitestr\">thecounter.org</span></a>)</span></td></tr>"
      ]
     },
     "execution_count": 7,
     "metadata": {},
     "output_type": "execute_result"
    }
   ],
   "source": [
    "# Find all articles\n",
    "summaries = soup.find_all(\"tr\", class_=\"athing\")\n",
    "summaries[0]"
   ]
  },
  {
   "cell_type": "code",
   "execution_count": 8,
   "metadata": {},
   "outputs": [
    {
     "data": {
      "text/plain": [
       "'Mexico is phasing out imports of glyphosate and GMO corn'"
      ]
     },
     "execution_count": 8,
     "metadata": {},
     "output_type": "execute_result"
    }
   ],
   "source": [
    "# Extract title\n",
    "summaries[0].find(\"a\", class_=\"storylink\").get_text().strip()"
   ]
  },
  {
   "cell_type": "code",
   "execution_count": 9,
   "metadata": {},
   "outputs": [
    {
     "name": "stdout",
     "output_type": "stream",
     "text": [
      "30 Article summaries found. Sample:\n",
      "['Mexico is phasing out imports of glyphosate and GMO corn', 'New carnivorous plant discovered in Pacific Northwest', 'Wildfire restored a Yosemite watershed', 'Stages of Denial', 'What happens if you stick your head in a particle accelerator? (2017)', \"When zero cost abstractions aren't zero cost\", 'Top 5% Polluting Power Plants Account for 73% of Global Emissions', 'New York Public Library’s Picture Collection Will Be Archived', 'Relationship Hero (YC S17) Is Hiring Sales Associates – Full Time Remote', 'Bring back hydrogen lifting gas', 'Why does it take so long to get to Mercury?', 'The Future Is a Landscape', 'Incentives in Computer Science', 'Difficult math is about recognizing patterns', 'Drug-resistant bacteria found in the guts of lemurs who live around humans', \"Anti-Lukashenka hackers seize senior Belarusian officials' personal data\", 'Why most programming language performance comparisons are most likely wrong', 'Fundamentals of Incident Management', \"Machine learning won't solve natural language understanding\", 'Apple’s Mistake', 'Show HN: Free, Accessible AI Art Generator', 'Show HN: Torrentinim – low memory-footprint, API-only torrent search engine', 'The Rocks and Minerals of Minecraft', 'ModelingToolkit, Modelica, and Modia: The Composable Modeling Future in Julia', 'How Watches Work', 'A wind-powered vehicle that can travel twice as fast as the wind itself', 'Elle: A transactional consistency checker for black-box databases', 'Build your own NeXT with a virtual machine', 'The World of CSS Transforms', 'Snaprecovery: Recover old Snaps that have “disappeared” from Snapchat']\n"
     ]
    }
   ],
   "source": [
    "# Find all articles, extract titles\n",
    "articles = []\n",
    "summaries = soup.find_all(\"tr\", class_=\"athing\")\n",
    "for summary in summaries:\n",
    "    title = summary.find(\"a\", class_=\"storylink\").get_text().strip()\n",
    "    articles.append((title))\n",
    "\n",
    "print(len(articles), \"Article summaries found. Sample:\")\n",
    "print(articles)"
   ]
  },
  {
   "cell_type": "markdown",
   "metadata": {
    "collapsed": true
   },
   "source": [
    "## Normalization"
   ]
  },
  {
   "cell_type": "markdown",
   "metadata": {},
   "source": [
    "### Case Normalization"
   ]
  },
  {
   "cell_type": "code",
   "execution_count": 10,
   "metadata": {},
   "outputs": [
    {
     "name": "stdout",
     "output_type": "stream",
     "text": [
      "The first time you see The Second Renaissance it may look boring. Look at it at least twice and definitely watch part 2. It will change your view of the matrix. Are the human people the ones who started the war ? Is AI a bad thing ?\n"
     ]
    }
   ],
   "source": [
    "# Sample text\n",
    "text = \"The first time you see The Second Renaissance it may look boring. Look at it at least twice and definitely watch part 2. It will change your view of the matrix. Are the human people the ones who started the war ? Is AI a bad thing ?\"\n",
    "print(text)"
   ]
  },
  {
   "cell_type": "code",
   "execution_count": 11,
   "metadata": {},
   "outputs": [
    {
     "name": "stdout",
     "output_type": "stream",
     "text": [
      "the first time you see the second renaissance it may look boring. look at it at least twice and definitely watch part 2. it will change your view of the matrix. are the human people the ones who started the war ? is ai a bad thing ?\n"
     ]
    }
   ],
   "source": [
    "# Convert to lowercase\n",
    "text = text.lower() \n",
    "print(text)"
   ]
  },
  {
   "cell_type": "markdown",
   "metadata": {},
   "source": [
    "### Punctuation Removal"
   ]
  },
  {
   "cell_type": "code",
   "execution_count": 12,
   "metadata": {},
   "outputs": [
    {
     "name": "stdout",
     "output_type": "stream",
     "text": [
      "the first time you see the second renaissance it may look boring  look at it at least twice and definitely watch part 2  it will change your view of the matrix  are the human people the ones who started the war   is ai a bad thing  \n"
     ]
    }
   ],
   "source": [
    "import re\n",
    "\n",
    "# Remove punctuation characters\n",
    "text = re.sub(r\"[^a-zA-Z0-9]\", \" \", text) \n",
    "print(text)"
   ]
  },
  {
   "cell_type": "markdown",
   "metadata": {},
   "source": [
    "## Tokenization"
   ]
  },
  {
   "cell_type": "code",
   "execution_count": 13,
   "metadata": {},
   "outputs": [
    {
     "name": "stdout",
     "output_type": "stream",
     "text": [
      "['the', 'first', 'time', 'you', 'see', 'the', 'second', 'renaissance', 'it', 'may', 'look', 'boring', 'look', 'at', 'it', 'at', 'least', 'twice', 'and', 'definitely', 'watch', 'part', '2', 'it', 'will', 'change', 'your', 'view', 'of', 'the', 'matrix', 'are', 'the', 'human', 'people', 'the', 'ones', 'who', 'started', 'the', 'war', 'is', 'ai', 'a', 'bad', 'thing']\n"
     ]
    }
   ],
   "source": [
    "# Split text into tokens (words)\n",
    "words = text.split()\n",
    "print(words)"
   ]
  },
  {
   "cell_type": "markdown",
   "metadata": {},
   "source": [
    "### NLTK: Natural Language ToolKit"
   ]
  },
  {
   "cell_type": "code",
   "execution_count": 14,
   "metadata": {},
   "outputs": [],
   "source": [
    "import os\n",
    "import nltk\n",
    "nltk.data.path.append(os.path.join(os.getcwd(), \"nltk_data\"))"
   ]
  },
  {
   "cell_type": "code",
   "execution_count": 15,
   "metadata": {},
   "outputs": [
    {
     "name": "stdout",
     "output_type": "stream",
     "text": [
      "Dr. Smith graduated from the University of Washington. He later started an analytics firm called Lux, which catered to enterprise customers.\n"
     ]
    }
   ],
   "source": [
    "# Another sample text\n",
    "text = \"Dr. Smith graduated from the University of Washington. He later started an analytics firm called Lux, which catered to enterprise customers.\"\n",
    "print(text)"
   ]
  },
  {
   "cell_type": "code",
   "execution_count": 16,
   "metadata": {},
   "outputs": [
    {
     "name": "stdout",
     "output_type": "stream",
     "text": [
      "['Dr.', 'Smith', 'graduated', 'from', 'the', 'University', 'of', 'Washington', '.', 'He', 'later', 'started', 'an', 'analytics', 'firm', 'called', 'Lux', ',', 'which', 'catered', 'to', 'enterprise', 'customers', '.']\n"
     ]
    }
   ],
   "source": [
    "from nltk.tokenize import word_tokenize\n",
    "\n",
    "# Split text into words using NLTK\n",
    "words = word_tokenize(text)\n",
    "print(words)"
   ]
  },
  {
   "cell_type": "code",
   "execution_count": 17,
   "metadata": {},
   "outputs": [
    {
     "name": "stdout",
     "output_type": "stream",
     "text": [
      "['Dr. Smith graduated from the University of Washington.', 'He later started an analytics firm called Lux, which catered to enterprise customers.']\n"
     ]
    }
   ],
   "source": [
    "from nltk.tokenize import sent_tokenize\n",
    "\n",
    "# Split text into sentences\n",
    "sentences = sent_tokenize(text)\n",
    "print(sentences)"
   ]
  },
  {
   "cell_type": "code",
   "execution_count": 18,
   "metadata": {},
   "outputs": [
    {
     "name": "stdout",
     "output_type": "stream",
     "text": [
      "['i', 'me', 'my', 'myself', 'we', 'our', 'ours', 'ourselves', 'you', \"you're\", \"you've\", \"you'll\", \"you'd\", 'your', 'yours', 'yourself', 'yourselves', 'he', 'him', 'his', 'himself', 'she', \"she's\", 'her', 'hers', 'herself', 'it', \"it's\", 'its', 'itself', 'they', 'them', 'their', 'theirs', 'themselves', 'what', 'which', 'who', 'whom', 'this', 'that', \"that'll\", 'these', 'those', 'am', 'is', 'are', 'was', 'were', 'be', 'been', 'being', 'have', 'has', 'had', 'having', 'do', 'does', 'did', 'doing', 'a', 'an', 'the', 'and', 'but', 'if', 'or', 'because', 'as', 'until', 'while', 'of', 'at', 'by', 'for', 'with', 'about', 'against', 'between', 'into', 'through', 'during', 'before', 'after', 'above', 'below', 'to', 'from', 'up', 'down', 'in', 'out', 'on', 'off', 'over', 'under', 'again', 'further', 'then', 'once', 'here', 'there', 'when', 'where', 'why', 'how', 'all', 'any', 'both', 'each', 'few', 'more', 'most', 'other', 'some', 'such', 'no', 'nor', 'not', 'only', 'own', 'same', 'so', 'than', 'too', 'very', 's', 't', 'can', 'will', 'just', 'don', \"don't\", 'should', \"should've\", 'now', 'd', 'll', 'm', 'o', 're', 've', 'y', 'ain', 'aren', \"aren't\", 'couldn', \"couldn't\", 'didn', \"didn't\", 'doesn', \"doesn't\", 'hadn', \"hadn't\", 'hasn', \"hasn't\", 'haven', \"haven't\", 'isn', \"isn't\", 'ma', 'mightn', \"mightn't\", 'mustn', \"mustn't\", 'needn', \"needn't\", 'shan', \"shan't\", 'shouldn', \"shouldn't\", 'wasn', \"wasn't\", 'weren', \"weren't\", 'won', \"won't\", 'wouldn', \"wouldn't\"]\n"
     ]
    }
   ],
   "source": [
    "# List stop words\n",
    "from nltk.corpus import stopwords\n",
    "print(stopwords.words(\"english\"))"
   ]
  },
  {
   "cell_type": "code",
   "execution_count": 19,
   "metadata": {},
   "outputs": [
    {
     "name": "stdout",
     "output_type": "stream",
     "text": [
      "['the', 'first', 'time', 'you', 'see', 'the', 'second', 'renaissance', 'it', 'may', 'look', 'boring', 'look', 'at', 'it', 'at', 'least', 'twice', 'and', 'definitely', 'watch', 'part', '2', 'it', 'will', 'change', 'your', 'view', 'of', 'the', 'matrix', 'are', 'the', 'human', 'people', 'the', 'ones', 'who', 'started', 'the', 'war', 'is', 'ai', 'a', 'bad', 'thing']\n"
     ]
    }
   ],
   "source": [
    "# Reset text\n",
    "text = \"The first time you see The Second Renaissance it may look boring. Look at it at least twice and definitely watch part 2. It will change your view of the matrix. Are the human people the ones who started the war ? Is AI a bad thing ?\"\n",
    "\n",
    "# Normalize it\n",
    "text = re.sub(r\"[^a-zA-Z0-9]\", \" \", text.lower())\n",
    "\n",
    "# Tokenize it\n",
    "words = text.split()\n",
    "print(words)"
   ]
  },
  {
   "cell_type": "code",
   "execution_count": 20,
   "metadata": {},
   "outputs": [
    {
     "name": "stdout",
     "output_type": "stream",
     "text": [
      "['first', 'time', 'see', 'second', 'renaissance', 'may', 'look', 'boring', 'look', 'least', 'twice', 'definitely', 'watch', 'part', '2', 'change', 'view', 'matrix', 'human', 'people', 'ones', 'started', 'war', 'ai', 'bad', 'thing']\n"
     ]
    }
   ],
   "source": [
    "# Remove stop words\n",
    "words = [w for w in words if w not in stopwords.words(\"english\")]\n",
    "print(words)"
   ]
  },
  {
   "cell_type": "markdown",
   "metadata": {},
   "source": [
    "### Sentence Parsing"
   ]
  },
  {
   "cell_type": "code",
   "execution_count": 21,
   "metadata": {},
   "outputs": [
    {
     "name": "stdout",
     "output_type": "stream",
     "text": [
      "(S\n",
      "  (NP I)\n",
      "  (VP\n",
      "    (VP (V shot) (NP (Det an) (N elephant)))\n",
      "    (PP (P in) (NP (Det my) (N pajamas)))))\n",
      "(S\n",
      "  (NP I)\n",
      "  (VP\n",
      "    (V shot)\n",
      "    (NP (Det an) (N elephant) (PP (P in) (NP (Det my) (N pajamas))))))\n"
     ]
    }
   ],
   "source": [
    "import nltk\n",
    "\n",
    "# Define a custom grammar\n",
    "my_grammar = nltk.CFG.fromstring(\"\"\"\n",
    "S -> NP VP\n",
    "PP -> P NP\n",
    "NP -> Det N | Det N PP | 'I'\n",
    "VP -> V NP | VP PP\n",
    "Det -> 'an' | 'my'\n",
    "N -> 'elephant' | 'pajamas'\n",
    "V -> 'shot'\n",
    "P -> 'in'\n",
    "\"\"\")\n",
    "parser = nltk.ChartParser(my_grammar)\n",
    "\n",
    "# Parse a sentence\n",
    "sentence = word_tokenize(\"I shot an elephant in my pajamas\")\n",
    "for tree in parser.parse(sentence):\n",
    "    print(tree)"
   ]
  },
  {
   "cell_type": "markdown",
   "metadata": {},
   "source": [
    "## Stemming & Lemmatization\n",
    "\n",
    "### Stemming"
   ]
  },
  {
   "cell_type": "code",
   "execution_count": 22,
   "metadata": {},
   "outputs": [
    {
     "name": "stdout",
     "output_type": "stream",
     "text": [
      "['first', 'time', 'see', 'second', 'renaiss', 'may', 'look', 'bore', 'look', 'least', 'twice', 'definit', 'watch', 'part', '2', 'chang', 'view', 'matrix', 'human', 'peopl', 'one', 'start', 'war', 'ai', 'bad', 'thing']\n"
     ]
    }
   ],
   "source": [
    "from nltk.stem.porter import PorterStemmer\n",
    "\n",
    "# Reduce words to their stems\n",
    "stemmed = [PorterStemmer().stem(w) for w in words]\n",
    "print(stemmed)"
   ]
  },
  {
   "cell_type": "markdown",
   "metadata": {},
   "source": [
    "### Lemmatization"
   ]
  },
  {
   "cell_type": "code",
   "execution_count": 23,
   "metadata": {},
   "outputs": [
    {
     "name": "stdout",
     "output_type": "stream",
     "text": [
      "['first', 'time', 'see', 'second', 'renaissance', 'may', 'look', 'boring', 'look', 'least', 'twice', 'definitely', 'watch', 'part', '2', 'change', 'view', 'matrix', 'human', 'people', 'one', 'started', 'war', 'ai', 'bad', 'thing']\n"
     ]
    }
   ],
   "source": [
    "from nltk.stem.wordnet import WordNetLemmatizer\n",
    "\n",
    "# Reduce words to their root form\n",
    "lemmed = [WordNetLemmatizer().lemmatize(w) for w in words]\n",
    "print(lemmed)"
   ]
  },
  {
   "cell_type": "code",
   "execution_count": 24,
   "metadata": {},
   "outputs": [
    {
     "name": "stdout",
     "output_type": "stream",
     "text": [
      "['first', 'time', 'see', 'second', 'renaissance', 'may', 'look', 'bore', 'look', 'least', 'twice', 'definitely', 'watch', 'part', '2', 'change', 'view', 'matrix', 'human', 'people', 'one', 'start', 'war', 'ai', 'bad', 'thing']\n"
     ]
    }
   ],
   "source": [
    "# Lemmatize verbs by specifying pos\n",
    "lemmed = [WordNetLemmatizer().lemmatize(w, pos='v') for w in lemmed]\n",
    "print(lemmed)"
   ]
  }
 ],
 "metadata": {
  "kernelspec": {
   "display_name": "Python [conda env:trading]",
   "language": "python",
   "name": "conda-env-trading-py"
  },
  "language_info": {
   "codemirror_mode": {
    "name": "ipython",
    "version": 3
   },
   "file_extension": ".py",
   "mimetype": "text/x-python",
   "name": "python",
   "nbconvert_exporter": "python",
   "pygments_lexer": "ipython3",
   "version": "3.9.4"
  }
 },
 "nbformat": 4,
 "nbformat_minor": 2
}
