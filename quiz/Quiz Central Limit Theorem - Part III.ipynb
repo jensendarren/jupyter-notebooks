{
 "cells": [
  {
   "cell_type": "markdown",
   "metadata": {},
   "source": [
    "### Central Limit Theorem - Part III\n",
    "\n",
    "You saw how the **Central Limit Theorem** worked for the sample mean in the earlier concept.  However, let's consider another example to see a case where the **Central Limit Theorem** doesn't work...\n",
    "\n",
    "Work through the questions and use the created variables to answer the questions that follow below the notebook.\n",
    "\n",
    "Run the below cell to get started."
   ]
  },
  {
   "cell_type": "code",
   "execution_count": 1,
   "metadata": {},
   "outputs": [
    {
     "data": {
      "image/png": "[encoded data removed]",
      "text/plain": [
       "<Figure size 432x288 with 1 Axes>"
      ]
     },
     "metadata": {
      "needs_background": "light"
     },
     "output_type": "display_data"
    }
   ],
   "source": [
    "import numpy as np\n",
    "import matplotlib.pyplot as plt\n",
    "\n",
    "%matplotlib inline\n",
    "np.random.seed(42)\n",
    "\n",
    "pop_data = np.random.gamma(1,100,3000)\n",
    "plt.hist(pop_data);"
   ]
  },
  {
   "cell_type": "markdown",
   "metadata": {},
   "source": [
    "`1.` In order to create the sampling distribution for the variance of 100 draws of this distribution, follow these steps:\n",
    "\n",
    "`a.` Use numpy's **random.choice** to simulate 100 draws from the `pop_data` array.   <br><br>\n",
    "`b.` Compute the variance of these 100 draws. <br><br>\n",
    "`c.` Write a loop to simulate this process 10,000 times, and store each variance into an array called **var_size_100**.<br><br>\n",
    "`d.` Plot a histogram of your sample variances.<br><br>\n",
    "`e.` Use **var_size_100** and **pop_data** to answer the quiz questions below. "
   ]
  },
  {
   "cell_type": "code",
   "execution_count": 2,
   "metadata": {},
   "outputs": [
    {
     "data": {
      "text/plain": [
       "9955.76939306549"
      ]
     },
     "execution_count": 2,
     "metadata": {},
     "output_type": "execute_result"
    }
   ],
   "source": [
    "pop_data.var()"
   ]
  },
  {
   "cell_type": "code",
   "execution_count": 3,
   "metadata": {},
   "outputs": [],
   "source": [
    "sample_data=np.random.choice(pop_data, 100)"
   ]
  },
  {
   "cell_type": "code",
   "execution_count": 4,
   "metadata": {},
   "outputs": [
    {
     "data": {
      "text/plain": [
       "12098.749344943082"
      ]
     },
     "execution_count": 4,
     "metadata": {},
     "output_type": "execute_result"
    }
   ],
   "source": [
    "sample_var=sample_data.var()\n",
    "sample_var"
   ]
  },
  {
   "cell_type": "code",
   "execution_count": 5,
   "metadata": {},
   "outputs": [],
   "source": [
    "sample_data=np.random.choice(pop_data, (10000,100))\n",
    "sample_var=sample_data.var(axis=1)"
   ]
  },
  {
   "cell_type": "code",
   "execution_count": 6,
   "metadata": {},
   "outputs": [
    {
     "name": "stdout",
     "output_type": "stream",
     "text": [
      "The mean of the sampling distribution for the sample variance: 9874.361793621825\n",
      "The variance of the sampling distribution for the sample variance.: 6508086.114509583\n"
     ]
    }
   ],
   "source": [
    "print('The mean of the sampling distribution for the sample variance: {}'.format(sample_var.mean()))\n",
    "print('The variance of the sampling distribution for the sample variance.: {}'.format(sample_var.var()))"
   ]
  },
  {
   "cell_type": "code",
   "execution_count": 7,
   "metadata": {},
   "outputs": [
    {
     "data": {
      "text/plain": [
       "(array([  11.,   42.,  123.,  230.,  433.,  675.,  828., 1020., 1009.,\n",
       "        1008.,  912.,  808.,  671.,  563.,  461.,  328.,  237.,  193.,\n",
       "         144.,  103.,   68.,   50.,   25.,   16.,   12.,   12.,    8.,\n",
       "           4.,    2.,    4.]),\n",
       " array([ 3615.72815393,  4234.60536436,  4853.4825748 ,  5472.35978523,\n",
       "         6091.23699566,  6710.11420609,  7328.99141652,  7947.86862696,\n",
       "         8566.74583739,  9185.62304782,  9804.50025825, 10423.37746868,\n",
       "        11042.25467911, 11661.13188955, 12280.00909998, 12898.88631041,\n",
       "        13517.76352084, 14136.64073127, 14755.51794171, 15374.39515214,\n",
       "        15993.27236257, 16612.149573  , 17231.02678343, 17849.90399386,\n",
       "        18468.7812043 , 19087.65841473, 19706.53562516, 20325.41283559,\n",
       "        20944.29004602, 21563.16725646, 22182.04446689]),\n",
       " <BarContainer object of 30 artists>)"
      ]
     },
     "execution_count": 7,
     "metadata": {},
     "output_type": "execute_result"
    },
    {
     "data": {
      "image/png": "[encoded data removed]",
      "text/plain": [
       "<Figure size 432x288 with 1 Axes>"
      ]
     },
     "metadata": {
      "needs_background": "light"
     },
     "output_type": "display_data"
    }
   ],
   "source": [
    "import matplotlib.pyplot as plt\n",
    "plt.hist(sample_var, 30)\n",
    "\n",
    "# NOTE that it isn't normally distributed. \n",
    "# It turns out no matter how large your sample size, \n",
    "# it will never be normally distributed. \n",
    "# This distribution will actually approach a distribution known \n",
    "# as a chi-squared distribution."
   ]
  }
 ],
 "metadata": {
  "kernelspec": {
   "display_name": "Python 3",
   "language": "python",
   "name": "python3"
  },
  "language_info": {
   "codemirror_mode": {
    "name": "ipython",
    "version": 3
   },
   "file_extension": ".py",
   "mimetype": "text/x-python",
   "name": "python",
   "nbconvert_exporter": "python",
   "pygments_lexer": "ipython3",
   "version": "3.8.5"
  }
 },
 "nbformat": 4,
 "nbformat_minor": 2
}
