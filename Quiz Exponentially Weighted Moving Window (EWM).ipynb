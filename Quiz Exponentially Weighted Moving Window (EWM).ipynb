{
 "cells": [
  {
   "cell_type": "markdown",
   "metadata": {},
   "source": [
    "Create an exponential moving average model of volatility. \n",
    "\n",
    "where r_nr \n",
    "n\n",
    "​\t  is the nth daily return, and \\sigma_nσ \n",
    "n\n",
    "​\t  is the nth estimate of the volatility. \\lambdaλ is a constant between 0 and 1 that defines how quickly weights on older data should decrease. A high value of \\lambdaλ (close to 1) will cause older data to matter relatively more in the calculation of \\sigma_nσ \n",
    "n\n",
    "​\t . A very low value of \\lambdaλ will mean that recent data matter more—in this case, the successive daily estimates of \\sigma_nσ \n",
    "n\n",
    "​\t  themselves will be volatile.\n",
    "\n",
    "Pandas provides built-in exponentially weighted moving window functions with the .ewm method. Consider using .ewm().mean(), and be sure to properly specify the alpha parameter (hint: it is related to, but not equal to \\lambdaλ).\n",
    "\n",
    "Note that .ewm().std() and .ewm().var() implement ewmvar(x) = ewma(x**2) - ewma(x)**2, which is slightly different than what you'll want to implement for this problem."
   ]
  },
  {
   "cell_type": "code",
   "execution_count": 4,
   "metadata": {},
   "outputs": [
    {
     "name": "stdout",
     "output_type": "stream",
     "text": [
      "0.004940582044719361\n",
      "Most recent volatility estimate: 0.004941\n"
     ]
    }
   ],
   "source": [
    "import pandas as pd\n",
    "import numpy as np\n",
    "\n",
    "def estimate_volatility(prices, l):\n",
    "    \"\"\"Create an exponential moving average model of the volatility of a stock\n",
    "    price, and return the most recent (last) volatility estimate.\n",
    "    \n",
    "    Parameters\n",
    "    ----------\n",
    "    prices : pandas.Series\n",
    "        A series of adjusted closing prices for a stock.\n",
    "        \n",
    "    l : float\n",
    "        The 'lambda' parameter of the exponential moving average model. Making\n",
    "        this value smaller will cause the model to weight older terms less \n",
    "        relative to more recent terms.\n",
    "        \n",
    "    Returns\n",
    "    -------\n",
    "    last_vol : float\n",
    "        The last element of your exponential moving averge volatility model series.\n",
    "    \n",
    "    \"\"\"\n",
    "    # https://knowledge.udacity.com/questions/16362\n",
    "    # calculate log returns\n",
    "    lret = np.log(prices) - np.log(prices.shift(1))\n",
    "    # square log returns\n",
    "    lretsq = np.square(lret)\n",
    "    # take the ewm mean\n",
    "    lretmean = lretsq.ewm(alpha=1-l).mean()\n",
    "    # take the square root of the results\n",
    "    last_vol = np.sqrt(lretmean).iloc[-1]\n",
    "    \n",
    "    return last_vol\n",
    "    \n",
    "def test_run(filename='data/ewm-prices.csv'):\n",
    "    \"\"\"Test run get_most_volatile() with stock prices from a file.\"\"\"\n",
    "    prices = pd.read_csv(filename, parse_dates=['date'], index_col='date', squeeze=True)\n",
    "    print(\"Most recent volatility estimate: {:.6f}\".format(estimate_volatility(prices, 0.7)))\n",
    "\n",
    "\n",
    "if __name__ == '__main__':\n",
    "    test_run()"
   ]
  },
  {
   "cell_type": "code",
   "execution_count": null,
   "metadata": {},
   "outputs": [],
   "source": []
  }
 ],
 "metadata": {
  "kernelspec": {
   "display_name": "Python [conda env:root] *",
   "language": "python",
   "name": "conda-root-py"
  },
  "language_info": {
   "codemirror_mode": {
    "name": "ipython",
    "version": 3
   },
   "file_extension": ".py",
   "mimetype": "text/x-python",
   "name": "python",
   "nbconvert_exporter": "python",
   "pygments_lexer": "ipython3",
   "version": "3.8.5"
  }
 },
 "nbformat": 4,
 "nbformat_minor": 4
}
