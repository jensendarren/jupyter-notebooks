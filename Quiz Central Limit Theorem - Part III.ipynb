{
 "cells": [
  {
   "cell_type": "markdown",
   "metadata": {},
   "source": [
    "### Central Limit Theorem - Part III\n",
    "\n",
    "You saw how the **Central Limit Theorem** worked for the sample mean in the earlier concept.  However, let's consider another example to see a case where the **Central Limit Theorem** doesn't work...\n",
    "\n",
    "Work through the questions and use the created variables to answer the questions that follow below the notebook.\n",
    "\n",
    "Run the below cell to get started."
   ]
  },
  {
   "cell_type": "code",
   "execution_count": 1,
   "metadata": {},
   "outputs": [
    {
     "data": {
      "image/png": "[encoded data removed]",
      "text/plain": [
       "<matplotlib.figure.Figure at 0x7f7c44051ef0>"
      ]
     },
     "metadata": {
      "needs_background": "light"
     },
     "output_type": "display_data"
    }
   ],
   "source": [
    "import numpy as np\n",
    "import matplotlib.pyplot as plt\n",
    "\n",
    "%matplotlib inline\n",
    "np.random.seed(42)\n",
    "\n",
    "pop_data = np.random.gamma(1,100,3000)\n",
    "plt.hist(pop_data);"
   ]
  },
  {
   "cell_type": "markdown",
   "metadata": {},
   "source": [
    "`1.` In order to create the sampling distribution for the variance of 100 draws of this distribution, follow these steps:\n",
    "\n",
    "`a.` Use numpy's **random.choice** to simulate 100 draws from the `pop_data` array.   <br><br>\n",
    "`b.` Compute the variance of these 100 draws. <br><br>\n",
    "`c.` Write a loop to simulate this process 10,000 times, and store each variance into an array called **var_size_100**.<br><br>\n",
    "`d.` Plot a histogram of your sample variances.<br><br>\n",
    "`e.` Use **var_size_100** and **pop_data** to answer the quiz questions below. "
   ]
  },
  {
   "cell_type": "code",
   "execution_count": 16,
   "metadata": {},
   "outputs": [
    {
     "data": {
      "text/plain": [
       "9955.7693930654896"
      ]
     },
     "execution_count": 16,
     "metadata": {},
     "output_type": "execute_result"
    }
   ],
   "source": [
    "pop_data.var()"
   ]
  },
  {
   "cell_type": "code",
   "execution_count": 15,
   "metadata": {},
   "outputs": [],
   "source": [
    "sample_data=np.random.choice(pop_data, 100)"
   ]
  },
  {
   "cell_type": "code",
   "execution_count": 7,
   "metadata": {},
   "outputs": [
    {
     "data": {
      "text/plain": [
       "9772.7708769984783"
      ]
     },
     "execution_count": 7,
     "metadata": {},
     "output_type": "execute_result"
    }
   ],
   "source": [
    "sample_var=sample_data.var()\n",
    "sample_var"
   ]
  },
  {
   "cell_type": "code",
   "execution_count": 21,
   "metadata": {},
   "outputs": [],
   "source": [
    "sample_data=np.random.choice(pop_data, (10000,100))\n",
    "sample_var=sample_data.var(axis=1)"
   ]
  },
  {
   "cell_type": "code",
   "execution_count": 22,
   "metadata": {},
   "outputs": [
    {
     "name": "stdout",
     "output_type": "stream",
     "text": [
      "The mean of the sampling distribution for the sample variance: 9849.263443947526\n",
      "The variance of the sampling distribution for the sample variance.: 6400460.101697472\n"
     ]
    }
   ],
   "source": [
    "print('The mean of the sampling distribution for the sample variance: {}'.format(sample_var.mean()))\n",
    "print('The variance of the sampling distribution for the sample variance.: {}'.format(sample_var.var()))"
   ]
  },
  {
   "cell_type": "code",
   "execution_count": 23,
   "metadata": {},
   "outputs": [
    {
     "data": {
      "text/plain": [
       "(array([  1.80000000e+01,   6.50000000e+01,   1.51000000e+02,\n",
       "          3.17000000e+02,   5.08000000e+02,   7.67000000e+02,\n",
       "          8.92000000e+02,   1.02700000e+03,   1.03700000e+03,\n",
       "          9.93000000e+02,   9.51000000e+02,   7.89000000e+02,\n",
       "          6.33000000e+02,   5.22000000e+02,   3.70000000e+02,\n",
       "          2.85000000e+02,   2.01000000e+02,   1.45000000e+02,\n",
       "          1.04000000e+02,   7.80000000e+01,   4.90000000e+01,\n",
       "          3.70000000e+01,   2.20000000e+01,   1.30000000e+01,\n",
       "          1.10000000e+01,   6.00000000e+00,   4.00000000e+00,\n",
       "          2.00000000e+00,   2.00000000e+00,   1.00000000e+00]),\n",
       " array([  3744.10963314,   4378.66650246,   5013.22337177,   5647.78024109,\n",
       "          6282.3371104 ,   6916.89397972,   7551.45084903,   8186.00771835,\n",
       "          8820.56458766,   9455.12145698,  10089.67832629,  10724.23519561,\n",
       "         11358.79206493,  11993.34893424,  12627.90580356,  13262.46267287,\n",
       "         13897.01954219,  14531.5764115 ,  15166.13328082,  15800.69015013,\n",
       "         16435.24701945,  17069.80388876,  17704.36075808,  18338.9176274 ,\n",
       "         18973.47449671,  19608.03136603,  20242.58823534,  20877.14510466,\n",
       "         21511.70197397,  22146.25884329,  22780.8157126 ]),\n",
       " <a list of 30 Patch objects>)"
      ]
     },
     "execution_count": 23,
     "metadata": {},
     "output_type": "execute_result"
    },
    {
     "data": {
      "image/png": "[encoded data removed]",
      "text/plain": [
       "<matplotlib.figure.Figure at 0x7f7c20ea4c88>"
      ]
     },
     "metadata": {
      "needs_background": "light"
     },
     "output_type": "display_data"
    }
   ],
   "source": [
    "import matplotlib.pyplot as plt\n",
    "plt.hist(sample_var, 30)\n",
    "\n",
    "# NOTE that it isn't normally distributed. \n",
    "# It turns out no matter how large your sample size, \n",
    "# it will never be normally distributed. \n",
    "# This distribution will actually approach a distribution known \n",
    "# as a chi-squared distribution."
   ]
  },
  {
   "cell_type": "code",
   "execution_count": null,
   "metadata": {},
   "outputs": [],
   "source": []
  }
 ],
 "metadata": {
  "kernelspec": {
   "display_name": "Python 3",
   "language": "python",
   "name": "python3"
  },
  "language_info": {
   "codemirror_mode": {
    "name": "ipython",
    "version": 3
   },
   "file_extension": ".py",
   "mimetype": "text/x-python",
   "name": "python",
   "nbconvert_exporter": "python",
   "pygments_lexer": "ipython3",
   "version": "3.6.3"
  }
 },
 "nbformat": 4,
 "nbformat_minor": 2
}
